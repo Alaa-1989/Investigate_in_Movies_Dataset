{
 "cells": [
  {
   "cell_type": "markdown",
   "metadata": {},
   "source": [
    "![images](https://user-images.githubusercontent.com/42184553/55184987-7a4f1400-51a4-11e9-8476-750bd7160da2.png)\n",
    "\n",
    "#  Investigate in a Movies Dataset\n",
    "#### Project - Data Analyst Nanodegree\n",
    "#### Udacity - March 28, 2019\n",
    "#### Alaa Alaboud - Dhahran - KSA"
   ]
  },
  {
   "cell_type": "markdown",
   "metadata": {},
   "source": [
    "\n",
    "\n",
    "\n",
    "## Table of Contents\n",
    "<ul class=\"outside\">\n",
    "<li><a href=\"#intro\">Introduction</a></li>\n",
    "<li>\n",
    "    <a href=\"#wrangling\">Data Wrangling</a>\n",
    "    <ul class=\"inside-wran\">\n",
    "        <li><a href=\"#acquisition\">Data acquisition</a></li>\n",
    "        <li><a href=\"#cleaning\">Data Cleaning</a></li>\n",
    "    </ul>\n",
    "</li>\n",
    "<li><a href=\"#overview\">Overview</a></li>\n",
    "<li>\n",
    "    <a href=\"#eda\">Exploratory Data Analysis</a>\n",
    "        <ul class=\"inside-explor\">\n",
    "        <li><a href=\"#part1\">Questions-part 1</a></li>\n",
    "        <li><a href=\"#part2\">Questions-part 2</a></li>\n",
    "        <li><a href=\"#part3\">Questions-part 3</a></li>    \n",
    "    </ul>  \n",
    "</li>\n",
    "<li>\n",
    "    <a href=\"#conclusions\">Conclusions</a>\n",
    "        <ul class=\"inside-conclu\">\n",
    "        <li><a href=\"#conclusion1\">Conclusion-part 1</a></li>\n",
    "        <li><a href=\"#conclusion2\">Conclusion-part 2</a></li>\n",
    "        <li><a href=\"#conclusion3\">Conclusion-part 3</a></li>    \n",
    "    </ul>     \n",
    "</li>      \n",
    "<li><a href=\"#authored\">Authored By</a></li>\n",
    "</ul>\n"
   ]
  },
  {
   "cell_type": "markdown",
   "metadata": {},
   "source": [
    "<a id='intro'></a>\n",
    "## Introduction"
   ]
  },
  {
   "cell_type": "markdown",
   "metadata": {},
   "source": [
    "Movies Dataset `tmdb-movies.csv`, This data set contains information about 10,000 movies collected from The Movie Database (TMDb), including user ratings and revenue. I chose it to explore it in my project to Investigate dataset analysis.\n",
    "\n",
    "You can see more detail for this dataset in kaggle from this link.\n",
    "\n",
    "[kaggle - Movies Metadata](https://www.kaggle.com/tmdb/tmdb-movie-metadata)\n",
    "\n",
    "\n",
    "### We found in kaggle Description for this dataset these notes:\n",
    "\n",
    "- The columns **budget_adj , revenue_adj** , are in dollar 2010 U.S, and it shows the budget and revenue of the associated movie accounting for inflation over time. but we will drop these columns because we will not be using it in our questions, but we can guess that the budget and revenue columns are in dollar 2010 U.S.\n",
    "\n",
    "- Some movies in the database have zero budget or zero revenue, that is their value has not been recorded so we will be discarding such entries, and we will treat it as missing values.\n",
    "\n",
    "- There are some odd characters in the ‘cast’ column. we don't need to clean them. we can leave them as is.\n",
    "\n",
    "### We will analyze dataset according to these questions:\n",
    "\n",
    "#### Questions- part 1 (Movies and Genres):\n",
    "- The most type of genres movie from 1960 to 2015\n",
    "- genres Trends for the last 5 years\n",
    "- genres Trends by Generation\n",
    "\n",
    "\n",
    "#### Questions- part 2 (Animations Movies):\n",
    "- Is Animation movies trend every year\n",
    "- The best Animation movie by  Revenue and profits losses\n",
    "\n",
    "\n",
    "\n",
    "#### Questions- part 3 (Profitable Movies):\n",
    "- Is Movies production increasing every year\n",
    "- What are the average runtimes of movies over the years\n",
    "- What are the average revenues of movies over the years\n"
   ]
  },
  {
   "cell_type": "markdown",
   "metadata": {},
   "source": [
    "<a id='wrangling'></a>\n",
    "## Data Wrangling"
   ]
  },
  {
   "cell_type": "markdown",
   "metadata": {},
   "source": [
    "<a id='acquisition'></a>\n",
    "### Data acquisition"
   ]
  },
  {
   "cell_type": "markdown",
   "metadata": {},
   "source": [
    "First, we need to collect data from this dataset to make our analysis.\n",
    "\n",
    "We will use some queries and libraries for this."
   ]
  },
  {
   "cell_type": "code",
   "execution_count": 3,
   "metadata": {},
   "outputs": [],
   "source": [
    "# Imports Libraries\n",
    "\n",
    "import pandas as pd\n",
    "%matplotlib inline\n",
    "import numpy as np\n",
    "import matplotlib.pyplot as plt\n",
    "import seaborn as sns\n",
    "from pylab import *"
   ]
  },
  {
   "cell_type": "code",
   "execution_count": 5,
   "metadata": {},
   "outputs": [
    {
     "data": {
      "text/html": [
       "<div>\n",
       "<style scoped>\n",
       "    .dataframe tbody tr th:only-of-type {\n",
       "        vertical-align: middle;\n",
       "    }\n",
       "\n",
       "    .dataframe tbody tr th {\n",
       "        vertical-align: top;\n",
       "    }\n",
       "\n",
       "    .dataframe thead th {\n",
       "        text-align: right;\n",
       "    }\n",
       "</style>\n",
       "<table border=\"1\" class=\"dataframe\">\n",
       "  <thead>\n",
       "    <tr style=\"text-align: right;\">\n",
       "      <th></th>\n",
       "      <th>id</th>\n",
       "      <th>imdb_id</th>\n",
       "      <th>popularity</th>\n",
       "      <th>budget</th>\n",
       "      <th>revenue</th>\n",
       "      <th>original_title</th>\n",
       "      <th>cast</th>\n",
       "      <th>homepage</th>\n",
       "      <th>director</th>\n",
       "      <th>tagline</th>\n",
       "      <th>...</th>\n",
       "      <th>overview</th>\n",
       "      <th>runtime</th>\n",
       "      <th>genres</th>\n",
       "      <th>production_companies</th>\n",
       "      <th>release_date</th>\n",
       "      <th>vote_count</th>\n",
       "      <th>vote_average</th>\n",
       "      <th>release_year</th>\n",
       "      <th>budget_adj</th>\n",
       "      <th>revenue_adj</th>\n",
       "    </tr>\n",
       "  </thead>\n",
       "  <tbody>\n",
       "    <tr>\n",
       "      <th>0</th>\n",
       "      <td>135397</td>\n",
       "      <td>tt0369610</td>\n",
       "      <td>32.985763</td>\n",
       "      <td>150000000</td>\n",
       "      <td>1513528810</td>\n",
       "      <td>Jurassic World</td>\n",
       "      <td>Chris Pratt|Bryce Dallas Howard|Irrfan Khan|Vi...</td>\n",
       "      <td>http://www.jurassicworld.com/</td>\n",
       "      <td>Colin Trevorrow</td>\n",
       "      <td>The park is open.</td>\n",
       "      <td>...</td>\n",
       "      <td>Twenty-two years after the events of Jurassic ...</td>\n",
       "      <td>124</td>\n",
       "      <td>Action|Adventure|Science Fiction|Thriller</td>\n",
       "      <td>Universal Studios|Amblin Entertainment|Legenda...</td>\n",
       "      <td>6/9/15</td>\n",
       "      <td>5562</td>\n",
       "      <td>6.5</td>\n",
       "      <td>2015</td>\n",
       "      <td>1.379999e+08</td>\n",
       "      <td>1.392446e+09</td>\n",
       "    </tr>\n",
       "    <tr>\n",
       "      <th>1</th>\n",
       "      <td>76341</td>\n",
       "      <td>tt1392190</td>\n",
       "      <td>28.419936</td>\n",
       "      <td>150000000</td>\n",
       "      <td>378436354</td>\n",
       "      <td>Mad Max: Fury Road</td>\n",
       "      <td>Tom Hardy|Charlize Theron|Hugh Keays-Byrne|Nic...</td>\n",
       "      <td>http://www.madmaxmovie.com/</td>\n",
       "      <td>George Miller</td>\n",
       "      <td>What a Lovely Day.</td>\n",
       "      <td>...</td>\n",
       "      <td>An apocalyptic story set in the furthest reach...</td>\n",
       "      <td>120</td>\n",
       "      <td>Action|Adventure|Science Fiction|Thriller</td>\n",
       "      <td>Village Roadshow Pictures|Kennedy Miller Produ...</td>\n",
       "      <td>5/13/15</td>\n",
       "      <td>6185</td>\n",
       "      <td>7.1</td>\n",
       "      <td>2015</td>\n",
       "      <td>1.379999e+08</td>\n",
       "      <td>3.481613e+08</td>\n",
       "    </tr>\n",
       "  </tbody>\n",
       "</table>\n",
       "<p>2 rows × 21 columns</p>\n",
       "</div>"
      ],
      "text/plain": [
       "       id    imdb_id  popularity     budget     revenue      original_title  \\\n",
       "0  135397  tt0369610   32.985763  150000000  1513528810      Jurassic World   \n",
       "1   76341  tt1392190   28.419936  150000000   378436354  Mad Max: Fury Road   \n",
       "\n",
       "                                                cast  \\\n",
       "0  Chris Pratt|Bryce Dallas Howard|Irrfan Khan|Vi...   \n",
       "1  Tom Hardy|Charlize Theron|Hugh Keays-Byrne|Nic...   \n",
       "\n",
       "                        homepage         director             tagline  ...  \\\n",
       "0  http://www.jurassicworld.com/  Colin Trevorrow   The park is open.  ...   \n",
       "1    http://www.madmaxmovie.com/    George Miller  What a Lovely Day.  ...   \n",
       "\n",
       "                                            overview runtime  \\\n",
       "0  Twenty-two years after the events of Jurassic ...     124   \n",
       "1  An apocalyptic story set in the furthest reach...     120   \n",
       "\n",
       "                                      genres  \\\n",
       "0  Action|Adventure|Science Fiction|Thriller   \n",
       "1  Action|Adventure|Science Fiction|Thriller   \n",
       "\n",
       "                                production_companies release_date vote_count  \\\n",
       "0  Universal Studios|Amblin Entertainment|Legenda...       6/9/15       5562   \n",
       "1  Village Roadshow Pictures|Kennedy Miller Produ...      5/13/15       6185   \n",
       "\n",
       "   vote_average  release_year    budget_adj   revenue_adj  \n",
       "0           6.5          2015  1.379999e+08  1.392446e+09  \n",
       "1           7.1          2015  1.379999e+08  3.481613e+08  \n",
       "\n",
       "[2 rows x 21 columns]"
      ]
     },
     "execution_count": 5,
     "metadata": {},
     "output_type": "execute_result"
    }
   ],
   "source": [
    "# Load Dataset\n",
    "\n",
    "df_tm = pd.read_csv('tmdb-movies.csv')\n",
    "df_tm.head(2)"
   ]
  },
  {
   "cell_type": "code",
   "execution_count": 6,
   "metadata": {},
   "outputs": [
    {
     "data": {
      "text/html": [
       "<div>\n",
       "<style scoped>\n",
       "    .dataframe tbody tr th:only-of-type {\n",
       "        vertical-align: middle;\n",
       "    }\n",
       "\n",
       "    .dataframe tbody tr th {\n",
       "        vertical-align: top;\n",
       "    }\n",
       "\n",
       "    .dataframe thead th {\n",
       "        text-align: right;\n",
       "    }\n",
       "</style>\n",
       "<table border=\"1\" class=\"dataframe\">\n",
       "  <thead>\n",
       "    <tr style=\"text-align: right;\">\n",
       "      <th></th>\n",
       "      <th>id</th>\n",
       "      <th>imdb_id</th>\n",
       "      <th>popularity</th>\n",
       "      <th>budget</th>\n",
       "      <th>revenue</th>\n",
       "      <th>original_title</th>\n",
       "      <th>cast</th>\n",
       "      <th>homepage</th>\n",
       "      <th>director</th>\n",
       "      <th>tagline</th>\n",
       "      <th>...</th>\n",
       "      <th>overview</th>\n",
       "      <th>runtime</th>\n",
       "      <th>genres</th>\n",
       "      <th>production_companies</th>\n",
       "      <th>release_date</th>\n",
       "      <th>vote_count</th>\n",
       "      <th>vote_average</th>\n",
       "      <th>release_year</th>\n",
       "      <th>budget_adj</th>\n",
       "      <th>revenue_adj</th>\n",
       "    </tr>\n",
       "  </thead>\n",
       "  <tbody>\n",
       "    <tr>\n",
       "      <th>10865</th>\n",
       "      <td>22293</td>\n",
       "      <td>tt0060666</td>\n",
       "      <td>0.035919</td>\n",
       "      <td>19000</td>\n",
       "      <td>0</td>\n",
       "      <td>Manos: The Hands of Fate</td>\n",
       "      <td>Harold P. Warren|Tom Neyman|John Reynolds|Dian...</td>\n",
       "      <td>NaN</td>\n",
       "      <td>Harold P. Warren</td>\n",
       "      <td>It's Shocking! It's Beyond Your Imagination!</td>\n",
       "      <td>...</td>\n",
       "      <td>A family gets lost on the road and stumbles up...</td>\n",
       "      <td>74</td>\n",
       "      <td>Horror</td>\n",
       "      <td>Norm-Iris</td>\n",
       "      <td>11/15/66</td>\n",
       "      <td>15</td>\n",
       "      <td>1.5</td>\n",
       "      <td>1966</td>\n",
       "      <td>127642.279154</td>\n",
       "      <td>0.0</td>\n",
       "    </tr>\n",
       "  </tbody>\n",
       "</table>\n",
       "<p>1 rows × 21 columns</p>\n",
       "</div>"
      ],
      "text/plain": [
       "          id    imdb_id  popularity  budget  revenue  \\\n",
       "10865  22293  tt0060666    0.035919   19000        0   \n",
       "\n",
       "                 original_title  \\\n",
       "10865  Manos: The Hands of Fate   \n",
       "\n",
       "                                                    cast homepage  \\\n",
       "10865  Harold P. Warren|Tom Neyman|John Reynolds|Dian...      NaN   \n",
       "\n",
       "               director                                       tagline  ...  \\\n",
       "10865  Harold P. Warren  It's Shocking! It's Beyond Your Imagination!  ...   \n",
       "\n",
       "                                                overview runtime  genres  \\\n",
       "10865  A family gets lost on the road and stumbles up...      74  Horror   \n",
       "\n",
       "      production_companies release_date vote_count  vote_average  \\\n",
       "10865            Norm-Iris     11/15/66         15           1.5   \n",
       "\n",
       "       release_year     budget_adj  revenue_adj  \n",
       "10865          1966  127642.279154          0.0  \n",
       "\n",
       "[1 rows x 21 columns]"
      ]
     },
     "execution_count": 6,
     "metadata": {},
     "output_type": "execute_result"
    }
   ],
   "source": [
    "# To see the last row in the dataset.\n",
    "df_tm.tail(1)"
   ]
  },
  {
   "cell_type": "code",
   "execution_count": 7,
   "metadata": {},
   "outputs": [
    {
     "data": {
      "text/plain": [
       "(10866, 21)"
      ]
     },
     "execution_count": 7,
     "metadata": {},
     "output_type": "execute_result"
    }
   ],
   "source": [
    "# get number of columns and rows in this dataset\n",
    "\n",
    "df_tm.shape"
   ]
  },
  {
   "cell_type": "code",
   "execution_count": 8,
   "metadata": {},
   "outputs": [
    {
     "name": "stdout",
     "output_type": "stream",
     "text": [
      "<class 'pandas.core.frame.DataFrame'>\n",
      "RangeIndex: 10866 entries, 0 to 10865\n",
      "Data columns (total 21 columns):\n",
      "id                      10866 non-null int64\n",
      "imdb_id                 10856 non-null object\n",
      "popularity              10866 non-null float64\n",
      "budget                  10866 non-null int64\n",
      "revenue                 10866 non-null int64\n",
      "original_title          10866 non-null object\n",
      "cast                    10790 non-null object\n",
      "homepage                2936 non-null object\n",
      "director                10822 non-null object\n",
      "tagline                 8042 non-null object\n",
      "keywords                9373 non-null object\n",
      "overview                10862 non-null object\n",
      "runtime                 10866 non-null int64\n",
      "genres                  10843 non-null object\n",
      "production_companies    9836 non-null object\n",
      "release_date            10866 non-null object\n",
      "vote_count              10866 non-null int64\n",
      "vote_average            10866 non-null float64\n",
      "release_year            10866 non-null int64\n",
      "budget_adj              10866 non-null float64\n",
      "revenue_adj             10866 non-null float64\n",
      "dtypes: float64(4), int64(6), object(11)\n",
      "memory usage: 1.7+ MB\n"
     ]
    }
   ],
   "source": [
    "# general info\n",
    "df_tm.info()"
   ]
  },
  {
   "cell_type": "code",
   "execution_count": 9,
   "metadata": {},
   "outputs": [
    {
     "data": {
      "text/plain": [
       "id                        int64\n",
       "imdb_id                  object\n",
       "popularity              float64\n",
       "budget                    int64\n",
       "revenue                   int64\n",
       "original_title           object\n",
       "cast                     object\n",
       "homepage                 object\n",
       "director                 object\n",
       "tagline                  object\n",
       "keywords                 object\n",
       "overview                 object\n",
       "runtime                   int64\n",
       "genres                   object\n",
       "production_companies     object\n",
       "release_date             object\n",
       "vote_count                int64\n",
       "vote_average            float64\n",
       "release_year              int64\n",
       "budget_adj              float64\n",
       "revenue_adj             float64\n",
       "dtype: object"
      ]
     },
     "execution_count": 9,
     "metadata": {},
     "output_type": "execute_result"
    }
   ],
   "source": [
    "#get the types of the entries in each column.\n",
    "df_tm.dtypes"
   ]
  },
  {
   "cell_type": "code",
   "execution_count": 10,
   "metadata": {},
   "outputs": [
    {
     "data": {
      "text/plain": [
       "1"
      ]
     },
     "execution_count": 10,
     "metadata": {},
     "output_type": "execute_result"
    }
   ],
   "source": [
    "# To see if there any duplicacy in the rows.\n",
    "\n",
    "sum(df_tm.duplicated())"
   ]
  },
  {
   "cell_type": "code",
   "execution_count": 11,
   "metadata": {},
   "outputs": [
    {
     "data": {
      "text/html": [
       "<div>\n",
       "<style scoped>\n",
       "    .dataframe tbody tr th:only-of-type {\n",
       "        vertical-align: middle;\n",
       "    }\n",
       "\n",
       "    .dataframe tbody tr th {\n",
       "        vertical-align: top;\n",
       "    }\n",
       "\n",
       "    .dataframe thead th {\n",
       "        text-align: right;\n",
       "    }\n",
       "</style>\n",
       "<table border=\"1\" class=\"dataframe\">\n",
       "  <thead>\n",
       "    <tr style=\"text-align: right;\">\n",
       "      <th></th>\n",
       "      <th>id</th>\n",
       "      <th>popularity</th>\n",
       "      <th>budget</th>\n",
       "      <th>revenue</th>\n",
       "      <th>runtime</th>\n",
       "      <th>vote_count</th>\n",
       "      <th>vote_average</th>\n",
       "      <th>release_year</th>\n",
       "      <th>budget_adj</th>\n",
       "      <th>revenue_adj</th>\n",
       "    </tr>\n",
       "  </thead>\n",
       "  <tbody>\n",
       "    <tr>\n",
       "      <th>count</th>\n",
       "      <td>10866.000000</td>\n",
       "      <td>10866.000000</td>\n",
       "      <td>1.086600e+04</td>\n",
       "      <td>1.086600e+04</td>\n",
       "      <td>10866.000000</td>\n",
       "      <td>10866.000000</td>\n",
       "      <td>10866.000000</td>\n",
       "      <td>10866.000000</td>\n",
       "      <td>1.086600e+04</td>\n",
       "      <td>1.086600e+04</td>\n",
       "    </tr>\n",
       "    <tr>\n",
       "      <th>mean</th>\n",
       "      <td>66064.177434</td>\n",
       "      <td>0.646441</td>\n",
       "      <td>1.462570e+07</td>\n",
       "      <td>3.982332e+07</td>\n",
       "      <td>102.070863</td>\n",
       "      <td>217.389748</td>\n",
       "      <td>5.974922</td>\n",
       "      <td>2001.322658</td>\n",
       "      <td>1.755104e+07</td>\n",
       "      <td>5.136436e+07</td>\n",
       "    </tr>\n",
       "    <tr>\n",
       "      <th>std</th>\n",
       "      <td>92130.136561</td>\n",
       "      <td>1.000185</td>\n",
       "      <td>3.091321e+07</td>\n",
       "      <td>1.170035e+08</td>\n",
       "      <td>31.381405</td>\n",
       "      <td>575.619058</td>\n",
       "      <td>0.935142</td>\n",
       "      <td>12.812941</td>\n",
       "      <td>3.430616e+07</td>\n",
       "      <td>1.446325e+08</td>\n",
       "    </tr>\n",
       "    <tr>\n",
       "      <th>min</th>\n",
       "      <td>5.000000</td>\n",
       "      <td>0.000065</td>\n",
       "      <td>0.000000e+00</td>\n",
       "      <td>0.000000e+00</td>\n",
       "      <td>0.000000</td>\n",
       "      <td>10.000000</td>\n",
       "      <td>1.500000</td>\n",
       "      <td>1960.000000</td>\n",
       "      <td>0.000000e+00</td>\n",
       "      <td>0.000000e+00</td>\n",
       "    </tr>\n",
       "    <tr>\n",
       "      <th>25%</th>\n",
       "      <td>10596.250000</td>\n",
       "      <td>0.207583</td>\n",
       "      <td>0.000000e+00</td>\n",
       "      <td>0.000000e+00</td>\n",
       "      <td>90.000000</td>\n",
       "      <td>17.000000</td>\n",
       "      <td>5.400000</td>\n",
       "      <td>1995.000000</td>\n",
       "      <td>0.000000e+00</td>\n",
       "      <td>0.000000e+00</td>\n",
       "    </tr>\n",
       "    <tr>\n",
       "      <th>50%</th>\n",
       "      <td>20669.000000</td>\n",
       "      <td>0.383856</td>\n",
       "      <td>0.000000e+00</td>\n",
       "      <td>0.000000e+00</td>\n",
       "      <td>99.000000</td>\n",
       "      <td>38.000000</td>\n",
       "      <td>6.000000</td>\n",
       "      <td>2006.000000</td>\n",
       "      <td>0.000000e+00</td>\n",
       "      <td>0.000000e+00</td>\n",
       "    </tr>\n",
       "    <tr>\n",
       "      <th>75%</th>\n",
       "      <td>75610.000000</td>\n",
       "      <td>0.713817</td>\n",
       "      <td>1.500000e+07</td>\n",
       "      <td>2.400000e+07</td>\n",
       "      <td>111.000000</td>\n",
       "      <td>145.750000</td>\n",
       "      <td>6.600000</td>\n",
       "      <td>2011.000000</td>\n",
       "      <td>2.085325e+07</td>\n",
       "      <td>3.369710e+07</td>\n",
       "    </tr>\n",
       "    <tr>\n",
       "      <th>max</th>\n",
       "      <td>417859.000000</td>\n",
       "      <td>32.985763</td>\n",
       "      <td>4.250000e+08</td>\n",
       "      <td>2.781506e+09</td>\n",
       "      <td>900.000000</td>\n",
       "      <td>9767.000000</td>\n",
       "      <td>9.200000</td>\n",
       "      <td>2015.000000</td>\n",
       "      <td>4.250000e+08</td>\n",
       "      <td>2.827124e+09</td>\n",
       "    </tr>\n",
       "  </tbody>\n",
       "</table>\n",
       "</div>"
      ],
      "text/plain": [
       "                  id    popularity        budget       revenue       runtime  \\\n",
       "count   10866.000000  10866.000000  1.086600e+04  1.086600e+04  10866.000000   \n",
       "mean    66064.177434      0.646441  1.462570e+07  3.982332e+07    102.070863   \n",
       "std     92130.136561      1.000185  3.091321e+07  1.170035e+08     31.381405   \n",
       "min         5.000000      0.000065  0.000000e+00  0.000000e+00      0.000000   \n",
       "25%     10596.250000      0.207583  0.000000e+00  0.000000e+00     90.000000   \n",
       "50%     20669.000000      0.383856  0.000000e+00  0.000000e+00     99.000000   \n",
       "75%     75610.000000      0.713817  1.500000e+07  2.400000e+07    111.000000   \n",
       "max    417859.000000     32.985763  4.250000e+08  2.781506e+09    900.000000   \n",
       "\n",
       "         vote_count  vote_average  release_year    budget_adj   revenue_adj  \n",
       "count  10866.000000  10866.000000  10866.000000  1.086600e+04  1.086600e+04  \n",
       "mean     217.389748      5.974922   2001.322658  1.755104e+07  5.136436e+07  \n",
       "std      575.619058      0.935142     12.812941  3.430616e+07  1.446325e+08  \n",
       "min       10.000000      1.500000   1960.000000  0.000000e+00  0.000000e+00  \n",
       "25%       17.000000      5.400000   1995.000000  0.000000e+00  0.000000e+00  \n",
       "50%       38.000000      6.000000   2006.000000  0.000000e+00  0.000000e+00  \n",
       "75%      145.750000      6.600000   2011.000000  2.085325e+07  3.369710e+07  \n",
       "max     9767.000000      9.200000   2015.000000  4.250000e+08  2.827124e+09  "
      ]
     },
     "execution_count": 11,
     "metadata": {},
     "output_type": "execute_result"
    }
   ],
   "source": [
    "# general describe\n",
    "df_tm.describe()"
   ]
  },
  {
   "cell_type": "code",
   "execution_count": 12,
   "metadata": {},
   "outputs": [
    {
     "data": {
      "text/plain": [
       "119205"
      ]
     },
     "execution_count": 12,
     "metadata": {},
     "output_type": "execute_result"
    }
   ],
   "source": [
    "# To see is there any unique values in a dataset.\n",
    "\n",
    "sum(df_tm.nunique())"
   ]
  },
  {
   "cell_type": "code",
   "execution_count": 13,
   "metadata": {},
   "outputs": [
    {
     "data": {
      "text/plain": [
       "pandas.core.frame.DataFrame"
      ]
     },
     "execution_count": 13,
     "metadata": {},
     "output_type": "execute_result"
    }
   ],
   "source": [
    "type(df_tm)"
   ]
  },
  {
   "cell_type": "markdown",
   "metadata": {},
   "source": [
    "<a id='overview'></a>\n",
    "## Overview"
   ]
  },
  {
   "cell_type": "markdown",
   "metadata": {},
   "source": [
    "After we discovered this dataset we found that is actually cleaned from original data on Kaggle, but there is some data need to cleaning according to our questions.\n",
    "\n",
    "### <a href=\"#change\">CHANGE</a>\n",
    "\n",
    "**Data Type:**\n",
    "\n",
    "we need to Changing format of budget and revenue and release date column\n",
    "\n",
    "\n",
    "- budget (int64 ==> float)\n",
    "\n",
    "- revenue (int64 ==> float)\n",
    "\n",
    "- Replacing zero values with null values in the **budget** and **revenue** columns.\n",
    "\n",
    "- Removing zero values with null values in **runtime**.\n",
    "\n",
    "\n",
    "### <a href=\"#remove\">REMOVE</a>\n",
    "\n",
    "\n",
    "- Removing the duplicacy in the rows.\n",
    "\n",
    "- Removing unused column: **(imdb_id, keywords, homepage, overview, release_date, tagline, vote_count, cast, director, production_companies.)**.\n",
    "\n",
    "- Removing null values that with a small number of nulls: **genres**.\n",
    "\n",
    "\n",
    " \n",
    "\n",
    "### <a href=\"#add\">ADD</a>\n",
    "\n",
    "- **‘genres’** column, contain multiple values separated by pipe(|) characters, we will use pandas functions(cat,split) to separated to can read it in our analysis.\n",
    "\n",
    "- We will create a column to categorize the films by type if it is an animated or not.\n",
    "- We will create a column to for profits losses for the movies.\n"
   ]
  },
  {
   "cell_type": "markdown",
   "metadata": {},
   "source": [
    "<a id='cleaning'></a>\n",
    "### Data Cleaning"
   ]
  },
  {
   "cell_type": "markdown",
   "metadata": {},
   "source": [
    "<a id='remove'></a>\n",
    "### REMOVE"
   ]
  },
  {
   "cell_type": "markdown",
   "metadata": {},
   "source": [
    "#### Removing Duplicated Rows"
   ]
  },
  {
   "cell_type": "markdown",
   "metadata": {},
   "source": [
    "In our discovered above, we found one duplicate row, we can show that rows using this method."
   ]
  },
  {
   "cell_type": "code",
   "execution_count": 14,
   "metadata": {},
   "outputs": [
    {
     "data": {
      "text/html": [
       "<div>\n",
       "<style scoped>\n",
       "    .dataframe tbody tr th:only-of-type {\n",
       "        vertical-align: middle;\n",
       "    }\n",
       "\n",
       "    .dataframe tbody tr th {\n",
       "        vertical-align: top;\n",
       "    }\n",
       "\n",
       "    .dataframe thead th {\n",
       "        text-align: right;\n",
       "    }\n",
       "</style>\n",
       "<table border=\"1\" class=\"dataframe\">\n",
       "  <thead>\n",
       "    <tr style=\"text-align: right;\">\n",
       "      <th></th>\n",
       "      <th>id</th>\n",
       "      <th>imdb_id</th>\n",
       "      <th>popularity</th>\n",
       "      <th>budget</th>\n",
       "      <th>revenue</th>\n",
       "      <th>original_title</th>\n",
       "      <th>cast</th>\n",
       "      <th>homepage</th>\n",
       "      <th>director</th>\n",
       "      <th>tagline</th>\n",
       "      <th>...</th>\n",
       "      <th>overview</th>\n",
       "      <th>runtime</th>\n",
       "      <th>genres</th>\n",
       "      <th>production_companies</th>\n",
       "      <th>release_date</th>\n",
       "      <th>vote_count</th>\n",
       "      <th>vote_average</th>\n",
       "      <th>release_year</th>\n",
       "      <th>budget_adj</th>\n",
       "      <th>revenue_adj</th>\n",
       "    </tr>\n",
       "  </thead>\n",
       "  <tbody>\n",
       "    <tr>\n",
       "      <th>2089</th>\n",
       "      <td>42194</td>\n",
       "      <td>tt0411951</td>\n",
       "      <td>0.59643</td>\n",
       "      <td>30000000</td>\n",
       "      <td>967000</td>\n",
       "      <td>TEKKEN</td>\n",
       "      <td>Jon Foo|Kelly Overton|Cary-Hiroyuki Tagawa|Ian...</td>\n",
       "      <td>NaN</td>\n",
       "      <td>Dwight H. Little</td>\n",
       "      <td>Survival is no game</td>\n",
       "      <td>...</td>\n",
       "      <td>In the year of 2039, after World Wars destroy ...</td>\n",
       "      <td>92</td>\n",
       "      <td>Crime|Drama|Action|Thriller|Science Fiction</td>\n",
       "      <td>Namco|Light Song Films</td>\n",
       "      <td>3/20/10</td>\n",
       "      <td>110</td>\n",
       "      <td>5.0</td>\n",
       "      <td>2010</td>\n",
       "      <td>30000000.0</td>\n",
       "      <td>967000.0</td>\n",
       "    </tr>\n",
       "    <tr>\n",
       "      <th>2090</th>\n",
       "      <td>42194</td>\n",
       "      <td>tt0411951</td>\n",
       "      <td>0.59643</td>\n",
       "      <td>30000000</td>\n",
       "      <td>967000</td>\n",
       "      <td>TEKKEN</td>\n",
       "      <td>Jon Foo|Kelly Overton|Cary-Hiroyuki Tagawa|Ian...</td>\n",
       "      <td>NaN</td>\n",
       "      <td>Dwight H. Little</td>\n",
       "      <td>Survival is no game</td>\n",
       "      <td>...</td>\n",
       "      <td>In the year of 2039, after World Wars destroy ...</td>\n",
       "      <td>92</td>\n",
       "      <td>Crime|Drama|Action|Thriller|Science Fiction</td>\n",
       "      <td>Namco|Light Song Films</td>\n",
       "      <td>3/20/10</td>\n",
       "      <td>110</td>\n",
       "      <td>5.0</td>\n",
       "      <td>2010</td>\n",
       "      <td>30000000.0</td>\n",
       "      <td>967000.0</td>\n",
       "    </tr>\n",
       "  </tbody>\n",
       "</table>\n",
       "<p>2 rows × 21 columns</p>\n",
       "</div>"
      ],
      "text/plain": [
       "         id    imdb_id  popularity    budget  revenue original_title  \\\n",
       "2089  42194  tt0411951     0.59643  30000000   967000         TEKKEN   \n",
       "2090  42194  tt0411951     0.59643  30000000   967000         TEKKEN   \n",
       "\n",
       "                                                   cast homepage  \\\n",
       "2089  Jon Foo|Kelly Overton|Cary-Hiroyuki Tagawa|Ian...      NaN   \n",
       "2090  Jon Foo|Kelly Overton|Cary-Hiroyuki Tagawa|Ian...      NaN   \n",
       "\n",
       "              director              tagline  ...  \\\n",
       "2089  Dwight H. Little  Survival is no game  ...   \n",
       "2090  Dwight H. Little  Survival is no game  ...   \n",
       "\n",
       "                                               overview runtime  \\\n",
       "2089  In the year of 2039, after World Wars destroy ...      92   \n",
       "2090  In the year of 2039, after World Wars destroy ...      92   \n",
       "\n",
       "                                           genres    production_companies  \\\n",
       "2089  Crime|Drama|Action|Thriller|Science Fiction  Namco|Light Song Films   \n",
       "2090  Crime|Drama|Action|Thriller|Science Fiction  Namco|Light Song Films   \n",
       "\n",
       "     release_date vote_count  vote_average  release_year  budget_adj  \\\n",
       "2089      3/20/10        110           5.0          2010  30000000.0   \n",
       "2090      3/20/10        110           5.0          2010  30000000.0   \n",
       "\n",
       "      revenue_adj  \n",
       "2089     967000.0  \n",
       "2090     967000.0  \n",
       "\n",
       "[2 rows x 21 columns]"
      ]
     },
     "execution_count": 14,
     "metadata": {},
     "output_type": "execute_result"
    }
   ],
   "source": [
    "df_tm[df_tm.duplicated(['id'], keep=False)]"
   ]
  },
  {
   "cell_type": "markdown",
   "metadata": {},
   "source": [
    "we want now clearing this dataset from duplicate rows."
   ]
  },
  {
   "cell_type": "code",
   "execution_count": 15,
   "metadata": {},
   "outputs": [],
   "source": [
    "#drop duplicates\n",
    "df_tm.drop_duplicates(inplace=True)"
   ]
  },
  {
   "cell_type": "markdown",
   "metadata": {},
   "source": [
    "Now we want to make sure that dataset is cleaned , when we run this code it should get 0 result"
   ]
  },
  {
   "cell_type": "code",
   "execution_count": 16,
   "metadata": {},
   "outputs": [
    {
     "data": {
      "text/plain": [
       "0"
      ]
     },
     "execution_count": 16,
     "metadata": {},
     "output_type": "execute_result"
    }
   ],
   "source": [
    "# check for duplicates in the data\n",
    "sum(df_tm.duplicated())"
   ]
  },
  {
   "cell_type": "markdown",
   "metadata": {},
   "source": [
    "#### Removing Unused columns"
   ]
  },
  {
   "cell_type": "markdown",
   "metadata": {},
   "source": [
    "After we set our questions, we found these columns is unused, so we decided to drop them.\n",
    "\n",
    "Columns that we need to delete are :\n",
    "    \n",
    "imdb_id, keywords, homepage, overview, release_date, tagline, vote_count, budget_adj, revenue_adj, cast, director, production_companies."
   ]
  },
  {
   "cell_type": "code",
   "execution_count": 17,
   "metadata": {},
   "outputs": [
    {
     "data": {
      "text/plain": [
       "Index(['id', 'imdb_id', 'popularity', 'budget', 'revenue', 'original_title',\n",
       "       'cast', 'homepage', 'director', 'tagline', 'keywords', 'overview',\n",
       "       'runtime', 'genres', 'production_companies', 'release_date',\n",
       "       'vote_count', 'vote_average', 'release_year', 'budget_adj',\n",
       "       'revenue_adj'],\n",
       "      dtype='object')"
      ]
     },
     "execution_count": 17,
     "metadata": {},
     "output_type": "execute_result"
    }
   ],
   "source": [
    "# get all columns\n",
    "df_tm.columns"
   ]
  },
  {
   "cell_type": "code",
   "execution_count": 18,
   "metadata": {},
   "outputs": [
    {
     "data": {
      "text/html": [
       "<div>\n",
       "<style scoped>\n",
       "    .dataframe tbody tr th:only-of-type {\n",
       "        vertical-align: middle;\n",
       "    }\n",
       "\n",
       "    .dataframe tbody tr th {\n",
       "        vertical-align: top;\n",
       "    }\n",
       "\n",
       "    .dataframe thead th {\n",
       "        text-align: right;\n",
       "    }\n",
       "</style>\n",
       "<table border=\"1\" class=\"dataframe\">\n",
       "  <thead>\n",
       "    <tr style=\"text-align: right;\">\n",
       "      <th></th>\n",
       "      <th>id</th>\n",
       "      <th>popularity</th>\n",
       "      <th>budget</th>\n",
       "      <th>revenue</th>\n",
       "      <th>original_title</th>\n",
       "      <th>runtime</th>\n",
       "      <th>genres</th>\n",
       "      <th>vote_average</th>\n",
       "      <th>release_year</th>\n",
       "    </tr>\n",
       "  </thead>\n",
       "  <tbody>\n",
       "    <tr>\n",
       "      <th>0</th>\n",
       "      <td>135397</td>\n",
       "      <td>32.985763</td>\n",
       "      <td>150000000</td>\n",
       "      <td>1513528810</td>\n",
       "      <td>Jurassic World</td>\n",
       "      <td>124</td>\n",
       "      <td>Action|Adventure|Science Fiction|Thriller</td>\n",
       "      <td>6.5</td>\n",
       "      <td>2015</td>\n",
       "    </tr>\n",
       "    <tr>\n",
       "      <th>1</th>\n",
       "      <td>76341</td>\n",
       "      <td>28.419936</td>\n",
       "      <td>150000000</td>\n",
       "      <td>378436354</td>\n",
       "      <td>Mad Max: Fury Road</td>\n",
       "      <td>120</td>\n",
       "      <td>Action|Adventure|Science Fiction|Thriller</td>\n",
       "      <td>7.1</td>\n",
       "      <td>2015</td>\n",
       "    </tr>\n",
       "  </tbody>\n",
       "</table>\n",
       "</div>"
      ],
      "text/plain": [
       "       id  popularity     budget     revenue      original_title  runtime  \\\n",
       "0  135397   32.985763  150000000  1513528810      Jurassic World      124   \n",
       "1   76341   28.419936  150000000   378436354  Mad Max: Fury Road      120   \n",
       "\n",
       "                                      genres  vote_average  release_year  \n",
       "0  Action|Adventure|Science Fiction|Thriller           6.5          2015  \n",
       "1  Action|Adventure|Science Fiction|Thriller           7.1          2015  "
      ]
     },
     "execution_count": 18,
     "metadata": {},
     "output_type": "execute_result"
    }
   ],
   "source": [
    "# drop coulmns unused\n",
    "df_tm.drop(['imdb_id', 'cast', 'director', 'keywords', 'homepage', 'overview', 'tagline', 'production_companies' , 'release_date', 'vote_count', 'budget_adj', 'revenue_adj', 'cast', 'director', 'production_companies'], axis=1, inplace=True)\n",
    "\n",
    "df_tm.head(2)"
   ]
  },
  {
   "cell_type": "markdown",
   "metadata": {},
   "source": [
    "To make sure we drop unused columns we run this method again."
   ]
  },
  {
   "cell_type": "code",
   "execution_count": 19,
   "metadata": {},
   "outputs": [
    {
     "data": {
      "text/plain": [
       "Index(['id', 'popularity', 'budget', 'revenue', 'original_title', 'runtime',\n",
       "       'genres', 'vote_average', 'release_year'],\n",
       "      dtype='object')"
      ]
     },
     "execution_count": 19,
     "metadata": {},
     "output_type": "execute_result"
    }
   ],
   "source": [
    "#show columns\n",
    "df_tm.columns"
   ]
  },
  {
   "cell_type": "markdown",
   "metadata": {},
   "source": [
    "#### Removing NAN values"
   ]
  },
  {
   "cell_type": "markdown",
   "metadata": {},
   "source": [
    "Now we will remove null values that with a small number of nulls like (genres).\n",
    "here, we decide to drop nulls values because this column is string not number to fill it with the mean."
   ]
  },
  {
   "cell_type": "code",
   "execution_count": 20,
   "metadata": {},
   "outputs": [
    {
     "data": {
      "text/plain": [
       "id                 0\n",
       "popularity         0\n",
       "budget             0\n",
       "revenue            0\n",
       "original_title     0\n",
       "runtime            0\n",
       "genres            23\n",
       "vote_average       0\n",
       "release_year       0\n",
       "dtype: int64"
      ]
     },
     "execution_count": 20,
     "metadata": {},
     "output_type": "execute_result"
    }
   ],
   "source": [
    "# check null values\n",
    "df_tm.isnull().sum()"
   ]
  },
  {
   "cell_type": "code",
   "execution_count": 21,
   "metadata": {},
   "outputs": [],
   "source": [
    "#drop null values from genres column\n",
    "col_nan = ['genres']\n",
    "df_tm.dropna(subset = col_nan, how='any', inplace=True)"
   ]
  },
  {
   "cell_type": "markdown",
   "metadata": {},
   "source": [
    "here, we want to check null values, to make sure the dropped has done, should returning 0 in genres column."
   ]
  },
  {
   "cell_type": "code",
   "execution_count": 22,
   "metadata": {},
   "outputs": [
    {
     "data": {
      "text/plain": [
       "id                0\n",
       "popularity        0\n",
       "budget            0\n",
       "revenue           0\n",
       "original_title    0\n",
       "runtime           0\n",
       "genres            0\n",
       "vote_average      0\n",
       "release_year      0\n",
       "dtype: int64"
      ]
     },
     "execution_count": 22,
     "metadata": {},
     "output_type": "execute_result"
    }
   ],
   "source": [
    "# check null values, should return 0 in genres column\n",
    "df_tm.isnull().sum()"
   ]
  },
  {
   "cell_type": "markdown",
   "metadata": {},
   "source": [
    "<a id='change'></a>\n",
    "### CHANGE"
   ]
  },
  {
   "cell_type": "markdown",
   "metadata": {},
   "source": [
    "#### Changing format of budget and revenue columns"
   ]
  },
  {
   "cell_type": "markdown",
   "metadata": {},
   "source": [
    "We found that two columns type is int64, but the values in the dataset were float number, so we will convert the type to float."
   ]
  },
  {
   "cell_type": "code",
   "execution_count": 23,
   "metadata": {},
   "outputs": [],
   "source": [
    "# convert the types\n",
    "chg_type = ['budget', 'revenue']\n",
    "\n",
    "df_tm[chg_type] = df_tm[chg_type].applymap(np.float)"
   ]
  },
  {
   "cell_type": "code",
   "execution_count": 24,
   "metadata": {},
   "outputs": [
    {
     "data": {
      "text/plain": [
       "id                  int64\n",
       "popularity        float64\n",
       "budget            float64\n",
       "revenue           float64\n",
       "original_title     object\n",
       "runtime             int64\n",
       "genres             object\n",
       "vote_average      float64\n",
       "release_year        int64\n",
       "dtype: object"
      ]
     },
     "execution_count": 24,
     "metadata": {},
     "output_type": "execute_result"
    }
   ],
   "source": [
    "#print data type\n",
    "df_tm.dtypes"
   ]
  },
  {
   "cell_type": "markdown",
   "metadata": {},
   "source": [
    "#### Replacing zero with NAN"
   ]
  },
  {
   "cell_type": "markdown",
   "metadata": {},
   "source": [
    "we will count the zeros value in budget, revenue datafram. and as we mentioned before that values have not been recorded so we will be discarding such entries, and we will treating it as missing values."
   ]
  },
  {
   "cell_type": "markdown",
   "metadata": {},
   "source": [
    "#### budget & revenue columns"
   ]
  },
  {
   "cell_type": "code",
   "execution_count": 25,
   "metadata": {},
   "outputs": [
    {
     "data": {
      "text/plain": [
       "budget\n",
       "0.0    5674\n",
       "1.0       4\n",
       "Name: id, dtype: int64"
      ]
     },
     "execution_count": 25,
     "metadata": {},
     "output_type": "execute_result"
    }
   ],
   "source": [
    "# count 0s values in column budget\n",
    "budget_0s = df_tm.groupby('budget').count()['id']\n",
    "\n",
    "budget_0s.head(2)"
   ]
  },
  {
   "cell_type": "code",
   "execution_count": 26,
   "metadata": {},
   "outputs": [
    {
     "data": {
      "text/plain": [
       "revenue\n",
       "0.0    5993\n",
       "2.0       2\n",
       "Name: id, dtype: int64"
      ]
     },
     "execution_count": 26,
     "metadata": {},
     "output_type": "execute_result"
    }
   ],
   "source": [
    "# count 0s values in column revenue\n",
    "revenue_0s = df_tm.groupby('revenue').count()['id']\n",
    "\n",
    "revenue_0s.head(2)"
   ]
  },
  {
   "cell_type": "markdown",
   "metadata": {},
   "source": [
    "As you see, we found a lot of 0s value, and that why we can't drop it and lose a lot of rows in our dataset."
   ]
  },
  {
   "cell_type": "code",
   "execution_count": 27,
   "metadata": {},
   "outputs": [],
   "source": [
    "#replaceing zeros values with null\n",
    "df_tm['budget'] = df_tm['budget'].replace(0, np.NaN)\n",
    "df_tm['revenue'] = df_tm['revenue'].replace(0, np.NaN)"
   ]
  },
  {
   "cell_type": "code",
   "execution_count": 28,
   "metadata": {},
   "outputs": [
    {
     "data": {
      "text/plain": [
       "budget\n",
       "1.0    4\n",
       "2.0    1\n",
       "Name: id, dtype: int64"
      ]
     },
     "execution_count": 28,
     "metadata": {},
     "output_type": "execute_result"
    }
   ],
   "source": [
    "#check if replacement is done\n",
    "budget_0s = df_tm.groupby('budget').count()['id']\n",
    "\n",
    "budget_0s.head(2)"
   ]
  },
  {
   "cell_type": "code",
   "execution_count": 29,
   "metadata": {},
   "outputs": [
    {
     "data": {
      "text/plain": [
       "revenue\n",
       "2.0    2\n",
       "3.0    3\n",
       "Name: id, dtype: int64"
      ]
     },
     "execution_count": 29,
     "metadata": {},
     "output_type": "execute_result"
    }
   ],
   "source": [
    "#check if replacement is done\n",
    "revenue_0s = df_tm.groupby('revenue').count()['id']\n",
    "\n",
    "revenue_0s.head(2)"
   ]
  },
  {
   "cell_type": "markdown",
   "metadata": {},
   "source": [
    "#### runtime column"
   ]
  },
  {
   "cell_type": "markdown",
   "metadata": {},
   "source": [
    "I will see the min and max values for the runtime of moves."
   ]
  },
  {
   "cell_type": "code",
   "execution_count": 30,
   "metadata": {},
   "outputs": [
    {
     "data": {
      "text/plain": [
       "count    10842.000000\n",
       "mean       102.138443\n",
       "std         31.294612\n",
       "min          0.000000\n",
       "25%         90.000000\n",
       "50%         99.000000\n",
       "75%        111.000000\n",
       "max        900.000000\n",
       "Name: runtime, dtype: float64"
      ]
     },
     "execution_count": 30,
     "metadata": {},
     "output_type": "execute_result"
    }
   ],
   "source": [
    "df_tm['runtime'].describe()"
   ]
  },
  {
   "cell_type": "markdown",
   "metadata": {},
   "source": [
    "As we see, from this we have \"2.000000\" as min value, and \"900.000000\" as max value, the difference between these two values is big so we will not use the mean values to fill the 0s."
   ]
  },
  {
   "cell_type": "code",
   "execution_count": 31,
   "metadata": {},
   "outputs": [
    {
     "data": {
      "text/plain": [
       "runtime\n",
       "0    30\n",
       "2     4\n",
       "Name: id, dtype: int64"
      ]
     },
     "execution_count": 31,
     "metadata": {},
     "output_type": "execute_result"
    }
   ],
   "source": [
    "# count 0s values in column\n",
    "runtime_0s = df_tm.groupby('runtime').count()['id']\n",
    "\n",
    "runtime_0s.head(2)"
   ]
  },
  {
   "cell_type": "markdown",
   "metadata": {},
   "source": [
    "In **runtime** there are a few 0s values \"30\", so I decide to replace 0s with null also."
   ]
  },
  {
   "cell_type": "code",
   "execution_count": 32,
   "metadata": {},
   "outputs": [],
   "source": [
    "#replaceing zeros values with null\n",
    "df_tm['runtime'] = df_tm['runtime'].replace(0, np.NaN)"
   ]
  },
  {
   "cell_type": "code",
   "execution_count": 33,
   "metadata": {},
   "outputs": [
    {
     "data": {
      "text/plain": [
       "runtime\n",
       "2.0     4\n",
       "3.0    10\n",
       "Name: id, dtype: int64"
      ]
     },
     "execution_count": 33,
     "metadata": {},
     "output_type": "execute_result"
    }
   ],
   "source": [
    "runtime_0s = df_tm.groupby('runtime').count()['id']\n",
    "\n",
    "runtime_0s.head(2)"
   ]
  },
  {
   "cell_type": "code",
   "execution_count": 31,
   "metadata": {},
   "outputs": [
    {
     "data": {
      "text/plain": [
       "id                   0\n",
       "popularity           0\n",
       "budget            5674\n",
       "revenue           5993\n",
       "original_title       0\n",
       "runtime             30\n",
       "genres               0\n",
       "vote_average         0\n",
       "release_year         0\n",
       "dtype: int64"
      ]
     },
     "execution_count": 31,
     "metadata": {},
     "output_type": "execute_result"
    }
   ],
   "source": [
    "#check if replacement is done\n",
    "df_tm.isnull().sum()"
   ]
  },
  {
   "cell_type": "markdown",
   "metadata": {},
   "source": [
    "<a id='add'></a>\n",
    "### ADD"
   ]
  },
  {
   "cell_type": "markdown",
   "metadata": {},
   "source": [
    "#### Create a column for Type to categorize the films by type"
   ]
  },
  {
   "cell_type": "markdown",
   "metadata": {},
   "source": [
    "We will create a column to categorize the films by type, if it is an animated or not."
   ]
  },
  {
   "cell_type": "code",
   "execution_count": 34,
   "metadata": {},
   "outputs": [
    {
     "data": {
      "text/html": [
       "<div>\n",
       "<style scoped>\n",
       "    .dataframe tbody tr th:only-of-type {\n",
       "        vertical-align: middle;\n",
       "    }\n",
       "\n",
       "    .dataframe tbody tr th {\n",
       "        vertical-align: top;\n",
       "    }\n",
       "\n",
       "    .dataframe thead th {\n",
       "        text-align: right;\n",
       "    }\n",
       "</style>\n",
       "<table border=\"1\" class=\"dataframe\">\n",
       "  <thead>\n",
       "    <tr style=\"text-align: right;\">\n",
       "      <th></th>\n",
       "      <th>id</th>\n",
       "      <th>popularity</th>\n",
       "      <th>budget</th>\n",
       "      <th>revenue</th>\n",
       "      <th>original_title</th>\n",
       "      <th>runtime</th>\n",
       "      <th>genres</th>\n",
       "      <th>vote_average</th>\n",
       "      <th>release_year</th>\n",
       "      <th>animation</th>\n",
       "    </tr>\n",
       "  </thead>\n",
       "  <tbody>\n",
       "    <tr>\n",
       "      <th>0</th>\n",
       "      <td>135397</td>\n",
       "      <td>32.985763</td>\n",
       "      <td>150000000.0</td>\n",
       "      <td>1.513529e+09</td>\n",
       "      <td>Jurassic World</td>\n",
       "      <td>124.0</td>\n",
       "      <td>Action|Adventure|Science Fiction|Thriller</td>\n",
       "      <td>6.5</td>\n",
       "      <td>2015</td>\n",
       "      <td>No</td>\n",
       "    </tr>\n",
       "    <tr>\n",
       "      <th>1</th>\n",
       "      <td>76341</td>\n",
       "      <td>28.419936</td>\n",
       "      <td>150000000.0</td>\n",
       "      <td>3.784364e+08</td>\n",
       "      <td>Mad Max: Fury Road</td>\n",
       "      <td>120.0</td>\n",
       "      <td>Action|Adventure|Science Fiction|Thriller</td>\n",
       "      <td>7.1</td>\n",
       "      <td>2015</td>\n",
       "      <td>No</td>\n",
       "    </tr>\n",
       "    <tr>\n",
       "      <th>2</th>\n",
       "      <td>262500</td>\n",
       "      <td>13.112507</td>\n",
       "      <td>110000000.0</td>\n",
       "      <td>2.952382e+08</td>\n",
       "      <td>Insurgent</td>\n",
       "      <td>119.0</td>\n",
       "      <td>Adventure|Science Fiction|Thriller</td>\n",
       "      <td>6.3</td>\n",
       "      <td>2015</td>\n",
       "      <td>No</td>\n",
       "    </tr>\n",
       "    <tr>\n",
       "      <th>3</th>\n",
       "      <td>140607</td>\n",
       "      <td>11.173104</td>\n",
       "      <td>200000000.0</td>\n",
       "      <td>2.068178e+09</td>\n",
       "      <td>Star Wars: The Force Awakens</td>\n",
       "      <td>136.0</td>\n",
       "      <td>Action|Adventure|Science Fiction|Fantasy</td>\n",
       "      <td>7.5</td>\n",
       "      <td>2015</td>\n",
       "      <td>No</td>\n",
       "    </tr>\n",
       "    <tr>\n",
       "      <th>4</th>\n",
       "      <td>168259</td>\n",
       "      <td>9.335014</td>\n",
       "      <td>190000000.0</td>\n",
       "      <td>1.506249e+09</td>\n",
       "      <td>Furious 7</td>\n",
       "      <td>137.0</td>\n",
       "      <td>Action|Crime|Thriller</td>\n",
       "      <td>7.3</td>\n",
       "      <td>2015</td>\n",
       "      <td>No</td>\n",
       "    </tr>\n",
       "    <tr>\n",
       "      <th>5</th>\n",
       "      <td>281957</td>\n",
       "      <td>9.110700</td>\n",
       "      <td>135000000.0</td>\n",
       "      <td>5.329505e+08</td>\n",
       "      <td>The Revenant</td>\n",
       "      <td>156.0</td>\n",
       "      <td>Western|Drama|Adventure|Thriller</td>\n",
       "      <td>7.2</td>\n",
       "      <td>2015</td>\n",
       "      <td>No</td>\n",
       "    </tr>\n",
       "    <tr>\n",
       "      <th>6</th>\n",
       "      <td>87101</td>\n",
       "      <td>8.654359</td>\n",
       "      <td>155000000.0</td>\n",
       "      <td>4.406035e+08</td>\n",
       "      <td>Terminator Genisys</td>\n",
       "      <td>125.0</td>\n",
       "      <td>Science Fiction|Action|Thriller|Adventure</td>\n",
       "      <td>5.8</td>\n",
       "      <td>2015</td>\n",
       "      <td>No</td>\n",
       "    </tr>\n",
       "    <tr>\n",
       "      <th>7</th>\n",
       "      <td>286217</td>\n",
       "      <td>7.667400</td>\n",
       "      <td>108000000.0</td>\n",
       "      <td>5.953803e+08</td>\n",
       "      <td>The Martian</td>\n",
       "      <td>141.0</td>\n",
       "      <td>Drama|Adventure|Science Fiction</td>\n",
       "      <td>7.6</td>\n",
       "      <td>2015</td>\n",
       "      <td>No</td>\n",
       "    </tr>\n",
       "    <tr>\n",
       "      <th>8</th>\n",
       "      <td>211672</td>\n",
       "      <td>7.404165</td>\n",
       "      <td>74000000.0</td>\n",
       "      <td>1.156731e+09</td>\n",
       "      <td>Minions</td>\n",
       "      <td>91.0</td>\n",
       "      <td>Family|Animation|Adventure|Comedy</td>\n",
       "      <td>6.5</td>\n",
       "      <td>2015</td>\n",
       "      <td>Yes</td>\n",
       "    </tr>\n",
       "    <tr>\n",
       "      <th>9</th>\n",
       "      <td>150540</td>\n",
       "      <td>6.326804</td>\n",
       "      <td>175000000.0</td>\n",
       "      <td>8.537086e+08</td>\n",
       "      <td>Inside Out</td>\n",
       "      <td>94.0</td>\n",
       "      <td>Comedy|Animation|Family</td>\n",
       "      <td>8.0</td>\n",
       "      <td>2015</td>\n",
       "      <td>Yes</td>\n",
       "    </tr>\n",
       "    <tr>\n",
       "      <th>10</th>\n",
       "      <td>206647</td>\n",
       "      <td>6.200282</td>\n",
       "      <td>245000000.0</td>\n",
       "      <td>8.806746e+08</td>\n",
       "      <td>Spectre</td>\n",
       "      <td>148.0</td>\n",
       "      <td>Action|Adventure|Crime</td>\n",
       "      <td>6.2</td>\n",
       "      <td>2015</td>\n",
       "      <td>No</td>\n",
       "    </tr>\n",
       "    <tr>\n",
       "      <th>11</th>\n",
       "      <td>76757</td>\n",
       "      <td>6.189369</td>\n",
       "      <td>176000003.0</td>\n",
       "      <td>1.839877e+08</td>\n",
       "      <td>Jupiter Ascending</td>\n",
       "      <td>124.0</td>\n",
       "      <td>Science Fiction|Fantasy|Action|Adventure</td>\n",
       "      <td>5.2</td>\n",
       "      <td>2015</td>\n",
       "      <td>No</td>\n",
       "    </tr>\n",
       "  </tbody>\n",
       "</table>\n",
       "</div>"
      ],
      "text/plain": [
       "        id  popularity       budget       revenue  \\\n",
       "0   135397   32.985763  150000000.0  1.513529e+09   \n",
       "1    76341   28.419936  150000000.0  3.784364e+08   \n",
       "2   262500   13.112507  110000000.0  2.952382e+08   \n",
       "3   140607   11.173104  200000000.0  2.068178e+09   \n",
       "4   168259    9.335014  190000000.0  1.506249e+09   \n",
       "5   281957    9.110700  135000000.0  5.329505e+08   \n",
       "6    87101    8.654359  155000000.0  4.406035e+08   \n",
       "7   286217    7.667400  108000000.0  5.953803e+08   \n",
       "8   211672    7.404165   74000000.0  1.156731e+09   \n",
       "9   150540    6.326804  175000000.0  8.537086e+08   \n",
       "10  206647    6.200282  245000000.0  8.806746e+08   \n",
       "11   76757    6.189369  176000003.0  1.839877e+08   \n",
       "\n",
       "                  original_title  runtime  \\\n",
       "0                 Jurassic World    124.0   \n",
       "1             Mad Max: Fury Road    120.0   \n",
       "2                      Insurgent    119.0   \n",
       "3   Star Wars: The Force Awakens    136.0   \n",
       "4                      Furious 7    137.0   \n",
       "5                   The Revenant    156.0   \n",
       "6             Terminator Genisys    125.0   \n",
       "7                    The Martian    141.0   \n",
       "8                        Minions     91.0   \n",
       "9                     Inside Out     94.0   \n",
       "10                       Spectre    148.0   \n",
       "11             Jupiter Ascending    124.0   \n",
       "\n",
       "                                       genres  vote_average  release_year  \\\n",
       "0   Action|Adventure|Science Fiction|Thriller           6.5          2015   \n",
       "1   Action|Adventure|Science Fiction|Thriller           7.1          2015   \n",
       "2          Adventure|Science Fiction|Thriller           6.3          2015   \n",
       "3    Action|Adventure|Science Fiction|Fantasy           7.5          2015   \n",
       "4                       Action|Crime|Thriller           7.3          2015   \n",
       "5            Western|Drama|Adventure|Thriller           7.2          2015   \n",
       "6   Science Fiction|Action|Thriller|Adventure           5.8          2015   \n",
       "7             Drama|Adventure|Science Fiction           7.6          2015   \n",
       "8           Family|Animation|Adventure|Comedy           6.5          2015   \n",
       "9                     Comedy|Animation|Family           8.0          2015   \n",
       "10                     Action|Adventure|Crime           6.2          2015   \n",
       "11   Science Fiction|Fantasy|Action|Adventure           5.2          2015   \n",
       "\n",
       "   animation  \n",
       "0         No  \n",
       "1         No  \n",
       "2         No  \n",
       "3         No  \n",
       "4         No  \n",
       "5         No  \n",
       "6         No  \n",
       "7         No  \n",
       "8        Yes  \n",
       "9        Yes  \n",
       "10        No  \n",
       "11        No  "
      ]
     },
     "execution_count": 34,
     "metadata": {},
     "output_type": "execute_result"
    }
   ],
   "source": [
    "# create column animation and search if genres col has a string \"Animation\" and chose it.\n",
    "df_tm['animation'] = df_tm.genres.str.contains('Animation')\n",
    "\n",
    "# I used Map for substituting each \"Animation\" value in a \"genres\" column with \" yes\" if it's there and \" No \" if not. \n",
    "df_tm['animation'] = df_tm['animation'].map({True: 'Yes', False: 'No'})\n",
    "        \n",
    "df_tm.head(12)  "
   ]
  },
  {
   "cell_type": "code",
   "execution_count": 35,
   "metadata": {},
   "outputs": [
    {
     "data": {
      "text/plain": [
       "array(['No', 'Yes'], dtype=object)"
      ]
     },
     "execution_count": 35,
     "metadata": {},
     "output_type": "execute_result"
    }
   ],
   "source": [
    "#check if the column has two value type\n",
    "df_tm.animation.unique()"
   ]
  },
  {
   "cell_type": "code",
   "execution_count": 36,
   "metadata": {},
   "outputs": [
    {
     "data": {
      "text/plain": [
       "0      No\n",
       "1      No\n",
       "2      No\n",
       "3      No\n",
       "4      No\n",
       "5      No\n",
       "6      No\n",
       "7      No\n",
       "8     Yes\n",
       "9     Yes\n",
       "10     No\n",
       "11     No\n",
       "Name: animation, dtype: object"
      ]
     },
     "execution_count": 36,
     "metadata": {},
     "output_type": "execute_result"
    }
   ],
   "source": [
    "# head of the new column values.\n",
    "df_tm.animation.head(12) "
   ]
  },
  {
   "cell_type": "markdown",
   "metadata": {},
   "source": [
    "#### Create a column for profits losses for the movies"
   ]
  },
  {
   "cell_type": "markdown",
   "metadata": {},
   "source": [
    "we decided to create a new column for profits losses for the movies, we can get it by subtracting the revenue column from the budget column.\n",
    "For using it to analyze the real profit for movies."
   ]
  },
  {
   "cell_type": "code",
   "execution_count": 37,
   "metadata": {},
   "outputs": [
    {
     "data": {
      "text/html": [
       "<div>\n",
       "<style scoped>\n",
       "    .dataframe tbody tr th:only-of-type {\n",
       "        vertical-align: middle;\n",
       "    }\n",
       "\n",
       "    .dataframe tbody tr th {\n",
       "        vertical-align: top;\n",
       "    }\n",
       "\n",
       "    .dataframe thead th {\n",
       "        text-align: right;\n",
       "    }\n",
       "</style>\n",
       "<table border=\"1\" class=\"dataframe\">\n",
       "  <thead>\n",
       "    <tr style=\"text-align: right;\">\n",
       "      <th></th>\n",
       "      <th>id</th>\n",
       "      <th>popularity</th>\n",
       "      <th>budget</th>\n",
       "      <th>revenue</th>\n",
       "      <th>profits_losses</th>\n",
       "      <th>original_title</th>\n",
       "      <th>runtime</th>\n",
       "      <th>genres</th>\n",
       "      <th>vote_average</th>\n",
       "      <th>release_year</th>\n",
       "      <th>animation</th>\n",
       "    </tr>\n",
       "  </thead>\n",
       "  <tbody>\n",
       "    <tr>\n",
       "      <th>0</th>\n",
       "      <td>135397</td>\n",
       "      <td>32.985763</td>\n",
       "      <td>150000000.0</td>\n",
       "      <td>1.513529e+09</td>\n",
       "      <td>1.363529e+09</td>\n",
       "      <td>Jurassic World</td>\n",
       "      <td>124.0</td>\n",
       "      <td>Action|Adventure|Science Fiction|Thriller</td>\n",
       "      <td>6.5</td>\n",
       "      <td>2015</td>\n",
       "      <td>No</td>\n",
       "    </tr>\n",
       "    <tr>\n",
       "      <th>1</th>\n",
       "      <td>76341</td>\n",
       "      <td>28.419936</td>\n",
       "      <td>150000000.0</td>\n",
       "      <td>3.784364e+08</td>\n",
       "      <td>2.284364e+08</td>\n",
       "      <td>Mad Max: Fury Road</td>\n",
       "      <td>120.0</td>\n",
       "      <td>Action|Adventure|Science Fiction|Thriller</td>\n",
       "      <td>7.1</td>\n",
       "      <td>2015</td>\n",
       "      <td>No</td>\n",
       "    </tr>\n",
       "    <tr>\n",
       "      <th>2</th>\n",
       "      <td>262500</td>\n",
       "      <td>13.112507</td>\n",
       "      <td>110000000.0</td>\n",
       "      <td>2.952382e+08</td>\n",
       "      <td>1.852382e+08</td>\n",
       "      <td>Insurgent</td>\n",
       "      <td>119.0</td>\n",
       "      <td>Adventure|Science Fiction|Thriller</td>\n",
       "      <td>6.3</td>\n",
       "      <td>2015</td>\n",
       "      <td>No</td>\n",
       "    </tr>\n",
       "    <tr>\n",
       "      <th>3</th>\n",
       "      <td>140607</td>\n",
       "      <td>11.173104</td>\n",
       "      <td>200000000.0</td>\n",
       "      <td>2.068178e+09</td>\n",
       "      <td>1.868178e+09</td>\n",
       "      <td>Star Wars: The Force Awakens</td>\n",
       "      <td>136.0</td>\n",
       "      <td>Action|Adventure|Science Fiction|Fantasy</td>\n",
       "      <td>7.5</td>\n",
       "      <td>2015</td>\n",
       "      <td>No</td>\n",
       "    </tr>\n",
       "    <tr>\n",
       "      <th>4</th>\n",
       "      <td>168259</td>\n",
       "      <td>9.335014</td>\n",
       "      <td>190000000.0</td>\n",
       "      <td>1.506249e+09</td>\n",
       "      <td>1.316249e+09</td>\n",
       "      <td>Furious 7</td>\n",
       "      <td>137.0</td>\n",
       "      <td>Action|Crime|Thriller</td>\n",
       "      <td>7.3</td>\n",
       "      <td>2015</td>\n",
       "      <td>No</td>\n",
       "    </tr>\n",
       "  </tbody>\n",
       "</table>\n",
       "</div>"
      ],
      "text/plain": [
       "       id  popularity       budget       revenue  profits_losses  \\\n",
       "0  135397   32.985763  150000000.0  1.513529e+09    1.363529e+09   \n",
       "1   76341   28.419936  150000000.0  3.784364e+08    2.284364e+08   \n",
       "2  262500   13.112507  110000000.0  2.952382e+08    1.852382e+08   \n",
       "3  140607   11.173104  200000000.0  2.068178e+09    1.868178e+09   \n",
       "4  168259    9.335014  190000000.0  1.506249e+09    1.316249e+09   \n",
       "\n",
       "                 original_title  runtime  \\\n",
       "0                Jurassic World    124.0   \n",
       "1            Mad Max: Fury Road    120.0   \n",
       "2                     Insurgent    119.0   \n",
       "3  Star Wars: The Force Awakens    136.0   \n",
       "4                     Furious 7    137.0   \n",
       "\n",
       "                                      genres  vote_average  release_year  \\\n",
       "0  Action|Adventure|Science Fiction|Thriller           6.5          2015   \n",
       "1  Action|Adventure|Science Fiction|Thriller           7.1          2015   \n",
       "2         Adventure|Science Fiction|Thriller           6.3          2015   \n",
       "3   Action|Adventure|Science Fiction|Fantasy           7.5          2015   \n",
       "4                      Action|Crime|Thriller           7.3          2015   \n",
       "\n",
       "  animation  \n",
       "0        No  \n",
       "1        No  \n",
       "2        No  \n",
       "3        No  \n",
       "4        No  "
      ]
     },
     "execution_count": 37,
     "metadata": {},
     "output_type": "execute_result"
    }
   ],
   "source": [
    "# insert a column for the profit losses value of each movie\n",
    "df_tm.insert(4, 'profits_losses', df_tm['revenue'] - df_tm['budget'])\n",
    "df_tm.head()"
   ]
  },
  {
   "cell_type": "code",
   "execution_count": 38,
   "metadata": {},
   "outputs": [
    {
     "data": {
      "text/plain": [
       "Index(['id', 'popularity', 'budget', 'revenue', 'profits_losses',\n",
       "       'original_title', 'runtime', 'genres', 'vote_average', 'release_year',\n",
       "       'animation'],\n",
       "      dtype='object')"
      ]
     },
     "execution_count": 38,
     "metadata": {},
     "output_type": "execute_result"
    }
   ],
   "source": [
    "# get all columns after add animation and profits_losses columns\n",
    "df_tm.columns"
   ]
  },
  {
   "cell_type": "code",
   "execution_count": 39,
   "metadata": {},
   "outputs": [
    {
     "data": {
      "text/plain": [
       "(10842, 11)"
      ]
     },
     "execution_count": 39,
     "metadata": {},
     "output_type": "execute_result"
    }
   ],
   "source": [
    "# check columns and rows count in dataset\n",
    "df_tm.shape"
   ]
  },
  {
   "cell_type": "markdown",
   "metadata": {},
   "source": [
    "<a id='eda'></a>\n",
    "## Exploratory Data Analysis"
   ]
  },
  {
   "cell_type": "markdown",
   "metadata": {},
   "source": [
    "<a id='part1'></a>\n",
    "### Questions Part 1"
   ]
  },
  {
   "cell_type": "markdown",
   "metadata": {},
   "source": [
    "### Q 1:\n",
    "### The most type of genres movie from 1960 to 2015?"
   ]
  },
  {
   "cell_type": "markdown",
   "metadata": {},
   "source": [
    "#### Separate the strings entries in column"
   ]
  },
  {
   "cell_type": "markdown",
   "metadata": {},
   "source": [
    "First, we need to separate the strings entries in columns by pipe characters '|', we have one column \"genres \"."
   ]
  },
  {
   "cell_type": "code",
   "execution_count": 40,
   "metadata": {},
   "outputs": [],
   "source": [
    "# A function which will take a column, and separate the string by pipe characters '|'\n",
    "\n",
    "def valu_sprt(genres):\n",
    "    \n",
    "    # giving pandas series to make it a list and storing the values separately\n",
    "    valu_sprt = df_tm['genres'].str.cat(sep = '|')\n",
    "    \n",
    "    valu_sprt = pd.Series(valu_sprt.split('|'))\n",
    "    \n",
    "    top_val = pd.DataFrame({'top' :valu_sprt})\n",
    "    \n",
    "    # ascending: I make it False to sort list values orders, to get the top values.\n",
    "    count_all = valu_sprt.value_counts(ascending = False)\n",
    "    \n",
    "    return count_all"
   ]
  },
  {
   "cell_type": "code",
   "execution_count": 41,
   "metadata": {},
   "outputs": [
    {
     "data": {
      "text/plain": [
       "Drama       4760\n",
       "Comedy      3793\n",
       "Thriller    2907\n",
       "Action      2384\n",
       "Romance     1712\n",
       "dtype: int64"
      ]
     },
     "execution_count": 41,
     "metadata": {},
     "output_type": "execute_result"
    }
   ],
   "source": [
    "#variable to store the retured value\n",
    "count_all = valu_sprt('genres')\n",
    "#printing top 5 values\n",
    "count_all.head()"
   ]
  },
  {
   "cell_type": "markdown",
   "metadata": {},
   "source": [
    "#### A pie visualization for all genres type"
   ]
  },
  {
   "cell_type": "markdown",
   "metadata": {},
   "source": [
    "here we can see the values and the percentage count of all genres type as a pie visualization.\n",
    "we can find from this the most and fewer types of movies are released from 1960 to 2015 years in this dataset."
   ]
  },
  {
   "cell_type": "code",
   "execution_count": 107,
   "metadata": {},
   "outputs": [
    {
     "data": {
      "image/png": "[encoded data removed]",
      "text/plain": [
       "<Figure size 720x720 with 1 Axes>"
      ]
     },
     "metadata": {},
     "output_type": "display_data"
    }
   ],
   "source": [
    "# Plot the pie visualization for all genres type\n",
    "\n",
    "count_all.plot(kind='pie', label='Genres' ,figsize=(10, 10), autopct='%1.0f%%', shadow=True)\n",
    "\n",
    "plt.title(label=\"Count's Of Genres Movies From 1960 To 2015 Years\" , fontsize=15, color='grey')\n",
    "\n",
    "# save\n",
    "plt.savefig('Genres_Movies.png', dpi=70, bbox_inches='tight');"
   ]
  },
  {
   "cell_type": "markdown",
   "metadata": {},
   "source": [
    "We can see there are 5 types presenting as 1%, and two types as 2%, and three types as 3%, and 4 types as 5%, two types as 6%, then there is a four type got the high score sored like this:\n",
    "\n",
    "**Action** 9%, **Thriller** 11%, **comedy** 14% and in the top **Drama** with 18% from this dataset.  "
   ]
  },
  {
   "cell_type": "markdown",
   "metadata": {},
   "source": [
    "### Q 2:\n",
    "### genres Trends for the last 5 years?"
   ]
  },
  {
   "cell_type": "markdown",
   "metadata": {},
   "source": [
    "To get the trends of the genre for the last 5 years, first, I need to sort the years by the **numpy** function **\"sort\"** then stored in a variable for can use it."
   ]
  },
  {
   "cell_type": "code",
   "execution_count": 43,
   "metadata": {},
   "outputs": [
    {
     "data": {
      "text/plain": [
       "array([1960, 1961, 1962, 1963, 1964, 1965, 1966, 1967, 1968, 1969, 1970,\n",
       "       1971, 1972, 1973, 1974, 1975, 1976, 1977, 1978, 1979, 1980, 1981,\n",
       "       1982, 1983, 1984, 1985, 1986, 1987, 1988, 1989, 1990, 1991, 1992,\n",
       "       1993, 1994, 1995, 1996, 1997, 1998, 1999, 2000, 2001, 2002, 2003,\n",
       "       2004, 2005, 2006, 2007, 2008, 2009, 2010, 2011, 2012, 2013, 2014,\n",
       "       2015], dtype=int64)"
      ]
     },
     "execution_count": 43,
     "metadata": {},
     "output_type": "execute_result"
    }
   ],
   "source": [
    "# sort release year list.\n",
    "year_unq= df_tm.release_year.unique()\n",
    "year_unq= np.sort(year_unq)\n",
    "year_unq"
   ]
  },
  {
   "cell_type": "markdown",
   "metadata": {},
   "source": [
    "Now we will make variables for each of the last 5 years by **List slicing** python method."
   ]
  },
  {
   "cell_type": "code",
   "execution_count": 44,
   "metadata": {},
   "outputs": [
    {
     "name": "stdout",
     "output_type": "stream",
     "text": [
      "[2015]\n",
      "[2014]\n",
      "[2013]\n",
      "[2012]\n",
      "[2011]\n"
     ]
    }
   ],
   "source": [
    "# var for 2015\n",
    "yer_15 = year_unq[-1:]\n",
    "print(yer_15)\n",
    "# var for 2014\n",
    "yer_14 = year_unq[-2:-1]\n",
    "print(yer_14)\n",
    "# var for 2013\n",
    "yer_13 = year_unq[-3:-2]\n",
    "print(yer_13)\n",
    "# var for 2012\n",
    "yer_12 = year_unq[-4:-3]\n",
    "print(yer_12)\n",
    "# var for 2011\n",
    "yer_11 = year_unq[-5:-4]\n",
    "print(yer_11)\n"
   ]
  },
  {
   "cell_type": "markdown",
   "metadata": {},
   "source": [
    "we need to use the same procedure from last first question, to separate the string by pipe characters '|' in the genres column.to get each type of genres and to see the top type in each year."
   ]
  },
  {
   "cell_type": "code",
   "execution_count": 45,
   "metadata": {},
   "outputs": [],
   "source": [
    "# A function which will take a column, and separate the string by pipe characters '|'\n",
    "\n",
    "def valu_gen(genres, num=5):\n",
    "    \n",
    "    # giving pandas series to make it a list and storing the values separately\n",
    "    valu_gen = genres.str.cat(sep = '|')\n",
    "    \n",
    "    valu_gen = pd.Series(valu_gen.split('|'))\n",
    "    \n",
    "    top_val = pd.DataFrame({'top' :valu_gen})\n",
    "    \n",
    "    # ascending: I make it False to sort list values orders, to get the top values.\n",
    "    count_ = top_val['top'].value_counts(ascending = False).head(num)\n",
    "    \n",
    "    return count_"
   ]
  },
  {
   "cell_type": "markdown",
   "metadata": {},
   "source": [
    "here we want to make a new DataFrame and store the values we want, after applying a for a loop. to get the top type in the year and the count of movies released in the same type."
   ]
  },
  {
   "cell_type": "code",
   "execution_count": 46,
   "metadata": {},
   "outputs": [
    {
     "data": {
      "text/html": [
       "<div>\n",
       "<style scoped>\n",
       "    .dataframe tbody tr th:only-of-type {\n",
       "        vertical-align: middle;\n",
       "    }\n",
       "\n",
       "    .dataframe tbody tr th {\n",
       "        vertical-align: top;\n",
       "    }\n",
       "\n",
       "    .dataframe thead th {\n",
       "        text-align: right;\n",
       "    }\n",
       "</style>\n",
       "<table border=\"1\" class=\"dataframe\">\n",
       "  <thead>\n",
       "    <tr style=\"text-align: right;\">\n",
       "      <th></th>\n",
       "      <th>year</th>\n",
       "      <th>top</th>\n",
       "    </tr>\n",
       "  </thead>\n",
       "  <tbody>\n",
       "    <tr>\n",
       "      <th>Drama</th>\n",
       "      <td>2015</td>\n",
       "      <td>260</td>\n",
       "    </tr>\n",
       "    <tr>\n",
       "      <th>Drama</th>\n",
       "      <td>2014</td>\n",
       "      <td>284</td>\n",
       "    </tr>\n",
       "    <tr>\n",
       "      <th>Drama</th>\n",
       "      <td>2013</td>\n",
       "      <td>253</td>\n",
       "    </tr>\n",
       "    <tr>\n",
       "      <th>Drama</th>\n",
       "      <td>2012</td>\n",
       "      <td>232</td>\n",
       "    </tr>\n",
       "    <tr>\n",
       "      <th>Drama</th>\n",
       "      <td>2011</td>\n",
       "      <td>214</td>\n",
       "    </tr>\n",
       "  </tbody>\n",
       "</table>\n",
       "</div>"
      ],
      "text/plain": [
       "       year  top\n",
       "Drama  2015  260\n",
       "Drama  2014  284\n",
       "Drama  2013  253\n",
       "Drama  2012  232\n",
       "Drama  2011  214"
      ]
     },
     "execution_count": 46,
     "metadata": {},
     "output_type": "execute_result"
    }
   ],
   "source": [
    "# store the lists in a variable.\n",
    "five_y = [yer_15, yer_14, yer_13, yer_12, yer_11]\n",
    "\n",
    "#get names for the generations.\n",
    "names = ['2015', '2014', '2013', '2012', '2011']\n",
    "\n",
    "#create an empty dataframe, with index = 0\n",
    "five_y_ = pd.DataFrame()\n",
    "index = 0\n",
    "\n",
    "# using for loop to check in every year and sort it in a generation.\n",
    "for i in five_y:\n",
    "    # i used Series.isin to Check whether values are contained in Series or not.\n",
    "    yer_in = df_tm[df_tm.release_year.isin(i)]\n",
    "    # fill the data frame, a year with generation name and top with the count of the top type.\n",
    "    rslt_y5 = pd.DataFrame({'year' : names[index],'top': valu_gen(yer_in.genres,1)})\n",
    "    # I'm using append to adding the result to the new dataframe as columns.\n",
    "    five_y_ = five_y_.append(rslt_y5)\n",
    "    index +=1\n",
    "five_y_"
   ]
  },
  {
   "cell_type": "markdown",
   "metadata": {},
   "source": [
    "#### A bar visualization for the last new dataframe for last 5 years"
   ]
  },
  {
   "cell_type": "markdown",
   "metadata": {},
   "source": [
    "make a bar chart to see the visualization for the last 5 years, and we can found also the most year in released movies."
   ]
  },
  {
   "cell_type": "code",
   "execution_count": 103,
   "metadata": {},
   "outputs": [
    {
     "data": {
      "image/png": "[encoded data removed]",
      "text/plain": [
       "<Figure size 864x432 with 2 Axes>"
      ]
     },
     "metadata": {},
     "output_type": "display_data"
    }
   ],
   "source": [
    "# Setting the positions\n",
    "year5_list = five_y_.index\n",
    "positn_y = np.arange(len(names))\n",
    "\n",
    "\n",
    "#Creates just a figure and only one subplot\n",
    "fig, ax = plt.subplots(figsize=(12, 6))\n",
    "ax.set_title('Genres Trends For The Last 5 Years', fontsize=15, color='grey');\n",
    "\n",
    "\n",
    "# set y1 , y2  to present the left and right side of y axis labels as genres number\n",
    "y1 = five_y_.top\n",
    "y2 = five_y_.top\n",
    "\n",
    "\n",
    "#plot the bar left side y ticks position, label\n",
    "ax.barh(positn_y, y1)\n",
    "ax.set_yticks(positn_y)\n",
    "ax.set_yticklabels(year5_list)\n",
    "#Add a title,font size, color of for left side y label\n",
    "ax.set_ylabel('Genres',fontsize=12, color='grey')\n",
    "#Add a title,font size, color of for left side x label\n",
    "ax.set_xlabel('Count of Movies',fontsize=12, color='grey')\n",
    "\n",
    "#create another axis to present the right-side y axis labels\n",
    "ax2 = ax.twinx()\n",
    "\n",
    "#plot the bar right side y ticks position, label\n",
    "ax2.barh(positn_y, y2, color='pink')\n",
    "ax2.set_yticks(positn_y)\n",
    "ax2.set_yticklabels(names)\n",
    "#Add a title,font size, color of for right side y label\n",
    "ax2.set_ylabel('Last Five Years',fontsize=12, color='grey')\n",
    "\n",
    "# save\n",
    "plt.savefig('Genres_Trends_Five_Years', dpi=70, bbox_inches='tight');"
   ]
  },
  {
   "cell_type": "markdown",
   "metadata": {},
   "source": [
    "We can figure from this bar chart the Drama type is in the top for the five years ,  and the released movies are in growth every year, and we found the 2014 year is the most year in released movies with above 260 movies."
   ]
  },
  {
   "cell_type": "markdown",
   "metadata": {},
   "source": [
    "### Q 3:\n",
    "### genres Trends by Generation?"
   ]
  },
  {
   "cell_type": "markdown",
   "metadata": {},
   "source": [
    "We will calculate the generation from **1960** to **2009** , and I will drop 6 years after 2009 to 2015 from this investigation because we don't have the data for the last **4** years to complete a generation."
   ]
  },
  {
   "cell_type": "markdown",
   "metadata": {},
   "source": [
    "We will make five lists for every generation by this condition, using **List slicing** python method."
   ]
  },
  {
   "cell_type": "code",
   "execution_count": 48,
   "metadata": {},
   "outputs": [
    {
     "name": "stdout",
     "output_type": "stream",
     "text": [
      "[1960 1961 1962 1963 1964 1965 1966 1967 1968 1969]\n",
      "[1970 1971 1972 1973 1974 1975 1976 1977 1978 1979]\n",
      "[1980 1981 1982 1983 1984 1985 1986 1987 1988 1989]\n",
      "[1990 1991 1992 1993 1994 1995 1996 1997 1998 1999]\n",
      "[2000 2001 2002 2003 2004 2005 2006 2007 2008 2009]\n"
     ]
    }
   ],
   "source": [
    "# make lists to stored years\n",
    "\n",
    "# from 1960 to 1969\n",
    "y60s =year_unq[:10]\n",
    "print(y60s)\n",
    "\n",
    "# from 1970 to 1979\n",
    "y70s =year_unq[10:20]\n",
    "print(y70s)\n",
    "\n",
    "# from 1980 to 1989\n",
    "y80s =year_unq[20:30]\n",
    "print(y80s)\n",
    "\n",
    "# from 1990 to 1999\n",
    "y90s = year_unq[30:40]\n",
    "print(y90s)\n",
    "\n",
    "# from 2000 to 2009\n",
    "y2000s = year_unq[40:50]\n",
    "print(y2000s)"
   ]
  },
  {
   "cell_type": "markdown",
   "metadata": {},
   "source": [
    "As the same of the last question, we want to make a new DataFrame and store the values we want, after applying a for a loop. to get the top type in every generation and the count of movies released in the same type."
   ]
  },
  {
   "cell_type": "code",
   "execution_count": 49,
   "metadata": {},
   "outputs": [
    {
     "data": {
      "text/html": [
       "<div>\n",
       "<style scoped>\n",
       "    .dataframe tbody tr th:only-of-type {\n",
       "        vertical-align: middle;\n",
       "    }\n",
       "\n",
       "    .dataframe tbody tr th {\n",
       "        vertical-align: top;\n",
       "    }\n",
       "\n",
       "    .dataframe thead th {\n",
       "        text-align: right;\n",
       "    }\n",
       "</style>\n",
       "<table border=\"1\" class=\"dataframe\">\n",
       "  <thead>\n",
       "    <tr style=\"text-align: right;\">\n",
       "      <th></th>\n",
       "      <th>year</th>\n",
       "      <th>top</th>\n",
       "    </tr>\n",
       "  </thead>\n",
       "  <tbody>\n",
       "    <tr>\n",
       "      <th>Drama</th>\n",
       "      <td>1960s</td>\n",
       "      <td>168</td>\n",
       "    </tr>\n",
       "    <tr>\n",
       "      <th>Drama</th>\n",
       "      <td>1970s</td>\n",
       "      <td>239</td>\n",
       "    </tr>\n",
       "    <tr>\n",
       "      <th>Comedy</th>\n",
       "      <td>1980s</td>\n",
       "      <td>428</td>\n",
       "    </tr>\n",
       "    <tr>\n",
       "      <th>Drama</th>\n",
       "      <td>1990s</td>\n",
       "      <td>862</td>\n",
       "    </tr>\n",
       "    <tr>\n",
       "      <th>Drama</th>\n",
       "      <td>2000s</td>\n",
       "      <td>1615</td>\n",
       "    </tr>\n",
       "  </tbody>\n",
       "</table>\n",
       "</div>"
      ],
      "text/plain": [
       "         year   top\n",
       "Drama   1960s   168\n",
       "Drama   1970s   239\n",
       "Comedy  1980s   428\n",
       "Drama   1990s   862\n",
       "Drama   2000s  1615"
      ]
     },
     "execution_count": 49,
     "metadata": {},
     "output_type": "execute_result"
    }
   ],
   "source": [
    "# store the lists in a variable.\n",
    "genr = [y60s, y70s, y80s, y90s, y2000s]\n",
    "\n",
    "#get names for the generations.\n",
    "names = ['1960s', '1970s', '1980s', '1990s', '2000s']\n",
    "\n",
    "#create an empty dataframe, with index = 0\n",
    "gen_ = pd.DataFrame()\n",
    "index = 0\n",
    "\n",
    "# using for loop to check in every year and sort it in a generation.\n",
    "for i in genr:\n",
    "    # i used Series.isin to Check whether values are contained in Series or not.\n",
    "    yer_in = df_tm[df_tm.release_year.isin(i)]\n",
    "    # fill the data frame, a year with generation name and top with the count of the top type.\n",
    "    rslt_gen = pd.DataFrame({'year' : names[index],'top': valu_gen(yer_in.genres,1)})\n",
    "    # I'm using append to adding the result to the new dataframe as columns.\n",
    "    gen_ = gen_.append(rslt_gen)\n",
    "    index +=1\n",
    "gen_"
   ]
  },
  {
   "cell_type": "markdown",
   "metadata": {},
   "source": [
    "#### A bar visualization for the last new dataframe for all generations"
   ]
  },
  {
   "cell_type": "markdown",
   "metadata": {},
   "source": [
    "make a bar chart to see the visualization for all generations, and we can found also the most generation in released movies, and if the released movies are growth by every generation or not."
   ]
  },
  {
   "cell_type": "code",
   "execution_count": 104,
   "metadata": {},
   "outputs": [
    {
     "data": {
      "image/png": "[encoded data removed]",
      "text/plain": [
       "<Figure size 864x432 with 2 Axes>"
      ]
     },
     "metadata": {},
     "output_type": "display_data"
    }
   ],
   "source": [
    "# Setting the positions\n",
    "genres_list = gen_.index\n",
    "positn_y = np.arange(len(names))\n",
    "\n",
    "\n",
    "#Creates just a figure and only one subplot\n",
    "fig, ax = plt.subplots(figsize=(12, 6))\n",
    "ax.set_title('Genres Trends By Generation', fontsize=15, color='grey');\n",
    "\n",
    "\n",
    "# set y1 , y2  to present the left and right side of y axis labels as genres number\n",
    "y1 = gen_.top\n",
    "y2 = gen_.top\n",
    "\n",
    "\n",
    "#plot the bar left side y ticks position, label\n",
    "ax.barh(positn_y, y1)\n",
    "ax.set_yticks(positn_y)\n",
    "ax.set_yticklabels(genres_list)\n",
    "#Add a title,font size, color of for left side y label\n",
    "ax.set_ylabel('Genres',fontsize=12, color='grey')\n",
    "#Add a title,font size, color of for left side x label\n",
    "ax.set_xlabel('Count of Movies',fontsize=12, color='grey')\n",
    "\n",
    "#create another axis to present the right-side y axis labels\n",
    "ax2 = ax.twinx()\n",
    "\n",
    "#plot the bar right side y ticks position, label\n",
    "ax2.barh(positn_y, y2 , color='#660033')\n",
    "ax2.set_yticks(positn_y)\n",
    "ax2.set_yticklabels(names)\n",
    "#Add a title,font size, color of for right side y label\n",
    "ax2.set_ylabel('Generation',fontsize=12, color='grey')\n",
    "\n",
    "\n",
    "# save\n",
    "plt.savefig('Genres_Trends_Generation', dpi=70, bbox_inches='tight');"
   ]
  },
  {
   "cell_type": "markdown",
   "metadata": {},
   "source": [
    "You can figure from this bar chart the Drama type is in the top for all generations except the 80s, and the released movies are in growth by time, and we found the 2000s have the most in released movies with approximately the doubled than the past generations."
   ]
  },
  {
   "cell_type": "markdown",
   "metadata": {},
   "source": [
    "<a id='conclusion1'></a>\n",
    "### Conclusions Part 1:\n",
    "\n",
    "We found in this anlaysis part:\n",
    "\n",
    "- The movies released are increased from 1960 to 2015 years. \n",
    "\n",
    "- As you can see from a pie chart in our first question in this part, the Drama at the top and got 18% by all dataset, and in the second place the Comedy with 14 %, then Thriller with 11%.and in the last place, from released movies, we have western, War, History with 1 %. \n",
    "\n",
    "- And for the last five years the Drama also in the top with increased from 2011 to 2014, and 2014 got the top year in released with 284, then it's got a little back in 2015 with a difference 24 movies.\n",
    "\n",
    "\n",
    "- And we also have seen in the five last generations the Drama in the top also, with increased, and in 2000s movies production doubled from the 90s with 1615 movies, but the 80s, the comedy movies suddenly got released more and being in the top.\n",
    "\n",
    "when I searched for the reason, I found that,The handful of comedy clubs that opened in the '70s had flourished on both coasts. \n",
    "In the '80s, clubs went national; between 1978 and 1988, over 300 comedy clubs sprung up across the U.S. Stand-up comedy was everywhere. and a large number of comedians became popular in the '80s and found large audiences.\n",
    "\n",
    "\n",
    "### prediction\n",
    "\n",
    "We can predict that in the next years, Drama production will increase also if still got an audiences."
   ]
  },
  {
   "cell_type": "markdown",
   "metadata": {},
   "source": [
    "<a id='part2'></a>\n",
    "### Questions Part 2"
   ]
  },
  {
   "cell_type": "markdown",
   "metadata": {},
   "source": [
    "### Q 1:\n",
    "### Is Animation movies trend every year?"
   ]
  },
  {
   "cell_type": "markdown",
   "metadata": {},
   "source": [
    "#### Describe the count of the movies if is animated or not"
   ]
  },
  {
   "cell_type": "markdown",
   "metadata": {},
   "source": [
    "From the describe function for the animation column and a bar chart visualization, we can see the rating and count for movies by animated."
   ]
  },
  {
   "cell_type": "code",
   "execution_count": 51,
   "metadata": {
    "scrolled": true
   },
   "outputs": [
    {
     "data": {
      "text/html": [
       "<div>\n",
       "<style scoped>\n",
       "    .dataframe tbody tr th:only-of-type {\n",
       "        vertical-align: middle;\n",
       "    }\n",
       "\n",
       "    .dataframe tbody tr th {\n",
       "        vertical-align: top;\n",
       "    }\n",
       "\n",
       "    .dataframe thead th {\n",
       "        text-align: right;\n",
       "    }\n",
       "</style>\n",
       "<table border=\"1\" class=\"dataframe\">\n",
       "  <thead>\n",
       "    <tr style=\"text-align: right;\">\n",
       "      <th></th>\n",
       "      <th>count</th>\n",
       "      <th>mean</th>\n",
       "      <th>std</th>\n",
       "      <th>min</th>\n",
       "      <th>25%</th>\n",
       "      <th>50%</th>\n",
       "      <th>75%</th>\n",
       "      <th>max</th>\n",
       "    </tr>\n",
       "    <tr>\n",
       "      <th>animation</th>\n",
       "      <th></th>\n",
       "      <th></th>\n",
       "      <th></th>\n",
       "      <th></th>\n",
       "      <th></th>\n",
       "      <th></th>\n",
       "      <th></th>\n",
       "      <th></th>\n",
       "    </tr>\n",
       "  </thead>\n",
       "  <tbody>\n",
       "    <tr>\n",
       "      <th>No</th>\n",
       "      <td>10143.0</td>\n",
       "      <td>2001.130040</td>\n",
       "      <td>12.934103</td>\n",
       "      <td>1960.0</td>\n",
       "      <td>1994.0</td>\n",
       "      <td>2005.0</td>\n",
       "      <td>2011.0</td>\n",
       "      <td>2015.0</td>\n",
       "    </tr>\n",
       "    <tr>\n",
       "      <th>Yes</th>\n",
       "      <td>699.0</td>\n",
       "      <td>2003.995708</td>\n",
       "      <td>10.566679</td>\n",
       "      <td>1961.0</td>\n",
       "      <td>2000.0</td>\n",
       "      <td>2007.0</td>\n",
       "      <td>2011.0</td>\n",
       "      <td>2015.0</td>\n",
       "    </tr>\n",
       "  </tbody>\n",
       "</table>\n",
       "</div>"
      ],
      "text/plain": [
       "             count         mean        std     min     25%     50%     75%  \\\n",
       "animation                                                                    \n",
       "No         10143.0  2001.130040  12.934103  1960.0  1994.0  2005.0  2011.0   \n",
       "Yes          699.0  2003.995708  10.566679  1961.0  2000.0  2007.0  2011.0   \n",
       "\n",
       "              max  \n",
       "animation          \n",
       "No         2015.0  \n",
       "Yes        2015.0  "
      ]
     },
     "execution_count": 51,
     "metadata": {},
     "output_type": "execute_result"
    }
   ],
   "source": [
    "# view describe for animation column by release years\n",
    "df_tm.groupby('animation').release_year.describe()"
   ]
  },
  {
   "cell_type": "code",
   "execution_count": 52,
   "metadata": {},
   "outputs": [
    {
     "data": {
      "image/png": "[encoded data removed]",
      "text/plain": [
       "<Figure size 432x432 with 1 Axes>"
      ]
     },
     "metadata": {
      "needs_background": "light"
     },
     "output_type": "display_data"
    }
   ],
   "source": [
    "# plot chart line for animation column by value count\n",
    "df_tm.animation.value_counts().plot(kind='bar', figsize=(6,6), color='#339966')\n",
    "\n",
    "# Add a title of chart and for x, y labels\n",
    "plt.title(\"Count Of Animation Movies Released\", fontsize=15, color='grey')\n",
    "plt.xlabel(\"Release Or Not\" ,fontsize=12, color='grey')\n",
    "plt.ylabel(\"Number Of Animation Count\" ,fontsize=12, color='grey');\n",
    "\n",
    "# save\n",
    "plt.savefig('Count_Animation_Movies', dpi=70, bbox_inches='tight');"
   ]
  },
  {
   "cell_type": "markdown",
   "metadata": {},
   "source": [
    "From this table and the bar chart, we can see that we have 699 animation movies and 10143 movies are not."
   ]
  },
  {
   "cell_type": "markdown",
   "metadata": {},
   "source": [
    "#### A histogram visualization for the count of the releasing animation movies"
   ]
  },
  {
   "cell_type": "markdown",
   "metadata": {},
   "source": [
    "For answering our question, Is Animation movies trend up every year? we will make a histogram visualization for this."
   ]
  },
  {
   "cell_type": "code",
   "execution_count": 98,
   "metadata": {},
   "outputs": [
    {
     "data": {
      "image/png": "[encoded data removed]",
      "text/plain": [
       "<Figure size 720x576 with 1 Axes>"
      ]
     },
     "metadata": {},
     "output_type": "display_data"
    }
   ],
   "source": [
    "# plot chart line for animation column by release_year\n",
    "df_tm.groupby('animation').release_year.plot.hist(figsize=(10, 8))\n",
    "\n",
    "# Add a title of chart and for y label\n",
    "plt.title(label='Animation Movies Trends' , fontsize=15, color='grey')\n",
    "plt.ylabel('Number of Movies',fontsize=12, color='grey')\n",
    "plt.xlabel('years',fontsize=12, color='grey')\n",
    "\n",
    "\n",
    "# save\n",
    "plt.savefig('Animation_Movies_Trends', dpi=70, bbox_inches='tight');"
   ]
  },
  {
   "cell_type": "markdown",
   "metadata": {},
   "source": [
    "we can figure from this the trend for releasing animation movies from the 60s to the last of the 80s are not getting up a lot, then in the last, the 90s is growth more until the 2010 year, then again its growth up to the 2015 year. in general, the correlation is positive. "
   ]
  },
  {
   "cell_type": "markdown",
   "metadata": {},
   "source": [
    "### Q 2:\n",
    "### The best Animation movie by  Revenue and profits losses ?"
   ]
  },
  {
   "cell_type": "markdown",
   "metadata": {},
   "source": [
    "we want to make the table by **query** function to sort movies by animated, then by revenue and profits losses to get the best movies."
   ]
  },
  {
   "cell_type": "markdown",
   "metadata": {},
   "source": [
    "#### Table 1 Animation BY Profits losses"
   ]
  },
  {
   "cell_type": "code",
   "execution_count": 54,
   "metadata": {},
   "outputs": [
    {
     "data": {
      "text/html": [
       "<div>\n",
       "<style scoped>\n",
       "    .dataframe tbody tr th:only-of-type {\n",
       "        vertical-align: middle;\n",
       "    }\n",
       "\n",
       "    .dataframe tbody tr th {\n",
       "        vertical-align: top;\n",
       "    }\n",
       "\n",
       "    .dataframe thead th {\n",
       "        text-align: right;\n",
       "    }\n",
       "</style>\n",
       "<table border=\"1\" class=\"dataframe\">\n",
       "  <thead>\n",
       "    <tr style=\"text-align: right;\">\n",
       "      <th></th>\n",
       "      <th>original_title</th>\n",
       "      <th>budget</th>\n",
       "      <th>revenue</th>\n",
       "      <th>profits_losses</th>\n",
       "      <th>animation</th>\n",
       "      <th>release_year</th>\n",
       "    </tr>\n",
       "  </thead>\n",
       "  <tbody>\n",
       "    <tr>\n",
       "      <th>5422</th>\n",
       "      <td>Frozen</td>\n",
       "      <td>150000000.0</td>\n",
       "      <td>1.274219e+09</td>\n",
       "      <td>1.124219e+09</td>\n",
       "      <td>Yes</td>\n",
       "      <td>2013</td>\n",
       "    </tr>\n",
       "    <tr>\n",
       "      <th>8</th>\n",
       "      <td>Minions</td>\n",
       "      <td>74000000.0</td>\n",
       "      <td>1.156731e+09</td>\n",
       "      <td>1.082731e+09</td>\n",
       "      <td>Yes</td>\n",
       "      <td>2015</td>\n",
       "    </tr>\n",
       "    <tr>\n",
       "      <th>5434</th>\n",
       "      <td>Despicable Me 2</td>\n",
       "      <td>76000000.0</td>\n",
       "      <td>9.707619e+08</td>\n",
       "      <td>8.947619e+08</td>\n",
       "      <td>Yes</td>\n",
       "      <td>2013</td>\n",
       "    </tr>\n",
       "  </tbody>\n",
       "</table>\n",
       "</div>"
      ],
      "text/plain": [
       "       original_title       budget       revenue  profits_losses animation  \\\n",
       "5422           Frozen  150000000.0  1.274219e+09    1.124219e+09       Yes   \n",
       "8             Minions   74000000.0  1.156731e+09    1.082731e+09       Yes   \n",
       "5434  Despicable Me 2   76000000.0  9.707619e+08    8.947619e+08       Yes   \n",
       "\n",
       "      release_year  \n",
       "5422          2013  \n",
       "8             2015  \n",
       "5434          2013  "
      ]
     },
     "execution_count": 54,
     "metadata": {},
     "output_type": "execute_result"
    }
   ],
   "source": [
    "# list of columns want to viewed\n",
    "col = ['original_title','budget','revenue', 'profits_losses','animation', 'release_year']\n",
    "\n",
    "# i used query to show movies which is animation, and i used sort_values to sorted according to the profit_loss column\n",
    "# i used ascending = False to sorted from max value\n",
    "anmyi = df_tm.query('animation==\"Yes\"')[col].sort_values('profits_losses', ascending = False).head(3)\n",
    "anmyi"
   ]
  },
  {
   "cell_type": "markdown",
   "metadata": {},
   "source": [
    "The best movie from this table is **Frozen** movie."
   ]
  },
  {
   "cell_type": "markdown",
   "metadata": {},
   "source": [
    "#### Table 2 Animation BY Revenue"
   ]
  },
  {
   "cell_type": "code",
   "execution_count": 55,
   "metadata": {},
   "outputs": [
    {
     "data": {
      "text/html": [
       "<div>\n",
       "<style scoped>\n",
       "    .dataframe tbody tr th:only-of-type {\n",
       "        vertical-align: middle;\n",
       "    }\n",
       "\n",
       "    .dataframe tbody tr th {\n",
       "        vertical-align: top;\n",
       "    }\n",
       "\n",
       "    .dataframe thead th {\n",
       "        text-align: right;\n",
       "    }\n",
       "</style>\n",
       "<table border=\"1\" class=\"dataframe\">\n",
       "  <thead>\n",
       "    <tr style=\"text-align: right;\">\n",
       "      <th></th>\n",
       "      <th>original_title</th>\n",
       "      <th>budget</th>\n",
       "      <th>revenue</th>\n",
       "      <th>profits_losses</th>\n",
       "      <th>animation</th>\n",
       "      <th>release_year</th>\n",
       "    </tr>\n",
       "  </thead>\n",
       "  <tbody>\n",
       "    <tr>\n",
       "      <th>5422</th>\n",
       "      <td>Frozen</td>\n",
       "      <td>150000000.0</td>\n",
       "      <td>1.274219e+09</td>\n",
       "      <td>1.124219e+09</td>\n",
       "      <td>Yes</td>\n",
       "      <td>2013</td>\n",
       "    </tr>\n",
       "    <tr>\n",
       "      <th>8</th>\n",
       "      <td>Minions</td>\n",
       "      <td>74000000.0</td>\n",
       "      <td>1.156731e+09</td>\n",
       "      <td>1.082731e+09</td>\n",
       "      <td>Yes</td>\n",
       "      <td>2015</td>\n",
       "    </tr>\n",
       "    <tr>\n",
       "      <th>1930</th>\n",
       "      <td>Toy Story 3</td>\n",
       "      <td>200000000.0</td>\n",
       "      <td>1.063172e+09</td>\n",
       "      <td>8.631719e+08</td>\n",
       "      <td>Yes</td>\n",
       "      <td>2010</td>\n",
       "    </tr>\n",
       "  </tbody>\n",
       "</table>\n",
       "</div>"
      ],
      "text/plain": [
       "     original_title       budget       revenue  profits_losses animation  \\\n",
       "5422         Frozen  150000000.0  1.274219e+09    1.124219e+09       Yes   \n",
       "8           Minions   74000000.0  1.156731e+09    1.082731e+09       Yes   \n",
       "1930    Toy Story 3  200000000.0  1.063172e+09    8.631719e+08       Yes   \n",
       "\n",
       "      release_year  \n",
       "5422          2013  \n",
       "8             2015  \n",
       "1930          2010  "
      ]
     },
     "execution_count": 55,
     "metadata": {},
     "output_type": "execute_result"
    }
   ],
   "source": [
    "# sorted by revenue column\n",
    "anmyi_2 = df_tm.query('animation==\"Yes\"')[col].sort_values('revenue', ascending = False).head(3)\n",
    "anmyi_2"
   ]
  },
  {
   "cell_type": "markdown",
   "metadata": {},
   "source": [
    "The best movie from this table also is **Frozen** movie."
   ]
  },
  {
   "cell_type": "markdown",
   "metadata": {},
   "source": [
    "<a id='conclusion2'></a>\n",
    "### Conclusions Part 2:\n",
    "\n",
    "- Through the histogram chart, we can see that the production of animation movies has increased more than ever especially from 2000 to 2015 years and that the overall rate is increasing every year. also, we can see from the bar chart that the animated movies in this dataset are a little.\n",
    "\n",
    "- And from the two sub-dataset we can figure the best Animation movie according to Revenue and profits.\n",
    "\n",
    "- The \"**Frozen**\" movie in the top with **1.274219e+09** revenue and **1.124219e+09** profits losses and was released in the **2013** year.\n",
    "\n",
    "- And in the second place the \"**Minions**\" movie with **1.156731e+09** revenue  and **1.082731e+09** profits losses and was released in the **2015** year.\n",
    "\n",
    "#### prediction\n",
    "\n",
    "We can predict that in the next years, Animation movies production will increase."
   ]
  },
  {
   "cell_type": "markdown",
   "metadata": {},
   "source": [
    "<a id='part3'></a>\n",
    "### Questions Part 3"
   ]
  },
  {
   "cell_type": "markdown",
   "metadata": {},
   "source": [
    "### Q1:\n",
    "### Is Movies production increasing every year?"
   ]
  },
  {
   "cell_type": "markdown",
   "metadata": {},
   "source": [
    "we will create a new variable to store the count of released movies every year."
   ]
  },
  {
   "cell_type": "code",
   "execution_count": 56,
   "metadata": {},
   "outputs": [
    {
     "data": {
      "text/plain": [
       "release_year\n",
       "1960    32\n",
       "1961    31\n",
       "1962    32\n",
       "1963    34\n",
       "1964    42\n",
       "Name: id, dtype: int64"
      ]
     },
     "execution_count": 56,
     "metadata": {},
     "output_type": "execute_result"
    }
   ],
   "source": [
    "# count the number of movies released in each year sort it by id coulmn\n",
    "movi_num = df_tm.groupby('release_year').count()['id']\n",
    "movi_num.head()"
   ]
  },
  {
   "cell_type": "markdown",
   "metadata": {},
   "source": [
    "#### A line chart visualization for the number of released movies."
   ]
  },
  {
   "cell_type": "markdown",
   "metadata": {},
   "source": [
    "We will visualize the number of movies to find the trend of movies released, to figure out the production rate."
   ]
  },
  {
   "cell_type": "code",
   "execution_count": 57,
   "metadata": {},
   "outputs": [
    {
     "data": {
      "image/png": "[encoded data removed]",
      "text/plain": [
       "<Figure size 864x432 with 1 Axes>"
      ]
     },
     "metadata": {},
     "output_type": "display_data"
    }
   ],
   "source": [
    "# set seaborn style\n",
    "plt.style.use('seaborn')\n",
    "\n",
    "# movies released years\n",
    "x = movi_num.index\n",
    "# count of movies released\n",
    "y = movi_num\n",
    "\n",
    "# set figure size\n",
    "plt.figure(figsize=(12, 6))\n",
    "# plot line chart \n",
    "plt.plot(x, y, color = 'red', linewidth=3, alpha=0.4)\n",
    "      \n",
    "# Add a title of chart  and for x, y labels\n",
    "plt.title(label='Numbers Of Movies Released Year By Year' , fontsize=15, color='grey')\n",
    "plt.xlabel('Years', fontsize=12, color='grey')\n",
    "plt.ylabel('Count of Movies Released', fontsize=12, color='grey');\n",
    "     \n",
    "# save\n",
    "plt.savefig('Movie_Released_years.png', dpi=70, bbox_inches='tight')"
   ]
  },
  {
   "cell_type": "markdown",
   "metadata": {},
   "source": [
    "From the chart, we can see it's trending up every year."
   ]
  },
  {
   "cell_type": "markdown",
   "metadata": {},
   "source": [
    "### Q2:\n",
    "### What are the average runtimes of movies over the years?"
   ]
  },
  {
   "cell_type": "markdown",
   "metadata": {},
   "source": [
    "we will get the mean of the duration for the movies."
   ]
  },
  {
   "cell_type": "code",
   "execution_count": 58,
   "metadata": {},
   "outputs": [
    {
     "data": {
      "text/plain": [
       "count    10812.000000\n",
       "mean       102.421846\n",
       "std         30.871363\n",
       "min          2.000000\n",
       "25%         90.000000\n",
       "50%         99.000000\n",
       "75%        112.000000\n",
       "max        900.000000\n",
       "Name: runtime, dtype: float64"
      ]
     },
     "execution_count": 58,
     "metadata": {},
     "output_type": "execute_result"
    }
   ],
   "source": [
    "# view describe for runtime column\n",
    "df_tm['runtime'].describe()"
   ]
  },
  {
   "cell_type": "markdown",
   "metadata": {},
   "source": [
    "#### A line chart visualization for the average of runtime movies."
   ]
  },
  {
   "cell_type": "code",
   "execution_count": 59,
   "metadata": {},
   "outputs": [
    {
     "data": {
      "image/png": "[encoded data removed]",
      "text/plain": [
       "<Figure size 864x432 with 1 Axes>"
      ]
     },
     "metadata": {},
     "output_type": "display_data"
    }
   ],
   "source": [
    "# plot chart line for release year and runtime columns\n",
    "df_tm.groupby('release_year')['runtime'].mean().plot(kind='line', figsize = (12, 6), color = '#ff0066')\n",
    "\n",
    "# Add a title of chart and for x, y labels\n",
    "plt.title('Average Runtime of Movies over the Years', fontsize=15, color='grey')\n",
    "plt.xlabel('Year', fontsize=12, color='grey')\n",
    "plt.ylabel('Runtime', fontsize=12, color='grey');\n",
    "\n",
    "# save\n",
    "plt.savefig('Average_Runtime_In_Years', dpi=70, bbox_inches='tight');"
   ]
  },
  {
   "cell_type": "markdown",
   "metadata": {},
   "source": [
    "From the line chart of Average Runtime, The runtime of movies has decreased year by year. "
   ]
  },
  {
   "cell_type": "markdown",
   "metadata": {},
   "source": [
    "### Q3:\n",
    "### What are the average revenues of movies over the years?"
   ]
  },
  {
   "cell_type": "markdown",
   "metadata": {},
   "source": [
    "We will get the mean of the revenues for the movies, by the pandas mean function."
   ]
  },
  {
   "cell_type": "code",
   "execution_count": 60,
   "metadata": {},
   "outputs": [
    {
     "data": {
      "text/plain": [
       "count    4.849000e+03\n",
       "mean     8.923886e+07\n",
       "std      1.620801e+08\n",
       "min      2.000000e+00\n",
       "25%      7.732325e+06\n",
       "50%      3.185308e+07\n",
       "75%      9.996575e+07\n",
       "max      2.781506e+09\n",
       "Name: revenue, dtype: float64"
      ]
     },
     "execution_count": 60,
     "metadata": {},
     "output_type": "execute_result"
    }
   ],
   "source": [
    "# view describe for runtime column\n",
    "df_tm['revenue'].describe()"
   ]
  },
  {
   "cell_type": "markdown",
   "metadata": {},
   "source": [
    "#### A line chart visualization for the average of revenues of movies."
   ]
  },
  {
   "cell_type": "code",
   "execution_count": 61,
   "metadata": {},
   "outputs": [
    {
     "data": {
      "image/png": "[encoded data removed]",
      "text/plain": [
       "<Figure size 864x432 with 1 Axes>"
      ]
     },
     "metadata": {},
     "output_type": "display_data"
    }
   ],
   "source": [
    "# plot chart line for release year and revenue columns\n",
    "df_tm.groupby('release_year')['revenue'].mean().plot(kind='line', figsize = (12, 6), color = '#000066')\n",
    "\n",
    "# Add a title of chart and for x, y labels\n",
    "plt.title('Average Revenue Of Movies Over Years', fontsize=15, color='grey')\n",
    "plt.xlabel('Years', fontsize=12, color='grey')\n",
    "plt.ylabel('Revenue', fontsize=12, color='grey');\n",
    "\n",
    "# save\n",
    "plt.savefig('Average_Revenue_In_Years', dpi=70, bbox_inches='tight');"
   ]
  },
  {
   "cell_type": "markdown",
   "metadata": {},
   "source": [
    "From the line chart of Average revenues, The revenue of movies has increased year by year. "
   ]
  },
  {
   "cell_type": "markdown",
   "metadata": {},
   "source": [
    "<a id='conclusion3'></a>\n",
    "### Conclusions Part 3:\n",
    "\n",
    "- From the chart line of Movies Released, We can see that the number of movies released in the 60s and the70s is slightly increased, then after the 80s, is getting more high increased year by year. \n",
    "\n",
    "- And From the line chart of Average Runtime, The runtime of movies has decreased since 1960 to 2015 with up and down rating over the years.\n",
    "- Movies tend to last around 90-112 minutes. and Presently, it seems g to move down less than 100 minutes in since the lasts of 2000 years to the 2015 year.\n",
    "\n",
    "\n",
    "#### prediction\n",
    "\n",
    "We can predict that in the next years, movies production will increase."
   ]
  },
  {
   "cell_type": "markdown",
   "metadata": {},
   "source": [
    "<a id='conclusions'></a>\n",
    "## Final Conclusion\n",
    "\n",
    "\n",
    "From the Conclusions in prevue parts, we can figure out that:\n",
    "1. Movies production is increased every year.\n",
    "2. It seems that the revenue generated by the production of movies is increasing every year, with a decrease in the duration of the runtime of the movies.\n",
    "3. The interested and production of animation and movies is increasing over the years.\n",
    "4. The best animation movie by revenue and profits losses is \"**Frozen**\" and was released in the **2013** year. \n",
    "5. The Drama movies at the top in released movies and get 18% from all dataset.\n",
    "6. seems the people like dramas more since the last 5 generations, and I think also in the forward generation too.  \n",
    "7. Comedy comes in second place with 14 % and was at the top and most released movies in the 80s.\n",
    "8. And for the last five years, the Drama was in the top with increased from 2011 to 2014. \n",
    "9. The 2014 year got the top year in released with 284, then it's got a little back in 2015 with a difference 24 movies.\n",
    "10. The Average Runtime of movies has decreased since 1960 to 2015 with up and down rating over the years.\n",
    "11. Movies tend to last around 90-112 minutes. \n",
    "12. In Presently, it seems g to move down less than 100 minutes in since the lasts of 2000 years to the 2015 year.\n",
    "\n",
    "In general, interest in movies seems increasing every year, with more revenue.\n",
    "\n",
    "\n",
    "### Limitations\n",
    "\n",
    "I want to say that The above conclusion is not 100% formula to success in our analysis.\n",
    "\n",
    "1. We have used for our investigate analysis the  TMBD Movies dataset and have worked with genres, release year, popularity, revenue, budget, and runtime columns.\n",
    "\n",
    "2. Our analysis is limited to only provided dataset. For example, the dataset does not confirm the average revenues of movies over the years, because we have a lot of missing value in the revenue column. \n",
    "\n",
    "3. There is no normalization or exchanges rate or currency conversion is considered during this analysis and our analysis is limited to the numerical values of revenue.\n",
    "\n",
    "4. we found In genres column a missing value. so in our data wrangling cleaning, we decided to drop null values. but dropping missing or Null values from variables of our interest might skew our analysis and could show unintentional bias towards relationship being analyzed.\n",
    "\n",
    "5. There are fields are filled out by users so don't expect them to agree on, genres or ratings."
   ]
  },
  {
   "cell_type": "markdown",
   "metadata": {},
   "source": [
    "## References"
   ]
  },
  {
   "cell_type": "markdown",
   "metadata": {},
   "source": [
    "https://www.thoughtco.com/stand-up-comedy-in-the-1980s-801533"
   ]
  },
  {
   "cell_type": "markdown",
   "metadata": {},
   "source": [
    "<a id='authored'></a>\n",
    "## Authored By:\n",
    "\n",
    "Alaa Adil Alaboud - Saudi Arabia\n",
    "\n",
    "[GitHub-Alaa-1989](https://github.com/Alaa-1989)\n",
    "\n",
    "[LinkedIn-alaa-alaboud](https://www.linkedin.com/in/alaa-alaboud/)"
   ]
  }
 ],
 "metadata": {
  "kernelspec": {
   "display_name": "Python 3",
   "language": "python",
   "name": "python3"
  },
  "language_info": {
   "codemirror_mode": {
    "name": "ipython",
    "version": 3
   },
   "file_extension": ".py",
   "mimetype": "text/x-python",
   "name": "python",
   "nbconvert_exporter": "python",
   "pygments_lexer": "ipython3",
   "version": "3.7.2"
  }
 },
 "nbformat": 4,
 "nbformat_minor": 2
}
